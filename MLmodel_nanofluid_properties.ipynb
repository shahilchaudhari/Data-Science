{
  "nbformat": 4,
  "nbformat_minor": 0,
  "metadata": {
    "colab": {
      "name": "MLmodel_nanofluid_properties.ipynb",
      "private_outputs": true,
      "provenance": [],
      "mount_file_id": "14bHRF_dF6erb3f6-XIiUZwPhdmFDh3Ek",
      "authorship_tag": "ABX9TyPQaueRC16N+XMpCIj614Ju",
      "include_colab_link": true
    },
    "kernelspec": {
      "name": "python3",
      "display_name": "Python 3"
    },
    "language_info": {
      "name": "python"
    }
  },
  "cells": [
    {
      "cell_type": "markdown",
      "metadata": {
        "id": "view-in-github",
        "colab_type": "text"
      },
      "source": [
        "<a href=\"https://colab.research.google.com/github/shahilchaudhari/Data-Science/blob/main/MLmodel_nanofluid_properties.ipynb\" target=\"_parent\"><img src=\"https://colab.research.google.com/assets/colab-badge.svg\" alt=\"Open In Colab\"/></a>"
      ]
    },
    {
      "cell_type": "code",
      "execution_count": null,
      "metadata": {
        "id": "LmpUlIju5_io"
      },
      "outputs": [],
      "source": [
        "import numpy as np\n",
        "import pandas as pd\n",
        "from sklearn.model_selection import train_test_split\n",
        "from sklearn.model_selection import RepeatedKFold\n",
        "from sklearn.model_selection import cross_val_score,StratifiedKFold\n",
        "from sklearn.linear_model import LinearRegression\n",
        "import sklearn.gaussian_process as gp\n",
        "from sklearn.ensemble import RandomForestRegressor\n",
        "from sklearn.model_selection import RandomizedSearchCV,GridSearchCV,learning_curve\n",
        "from sklearn.linear_model import Ridge\n",
        "from sklearn.model_selection import KFold\n",
        "from sklearn.gaussian_process.kernels import RBF, DotProduct\n",
        "import statsmodels.api as sn\n",
        "import seaborn as sns\n",
        "from sklearn.metrics import r2_score,mean_absolute_error,mean_squared_error\n",
        "from sklearn.preprocessing import StandardScaler\n",
        "from scipy.stats import loguniform\n",
        "import matplotlib.pyplot as plt\n",
        "from sklearn.neighbors import KNeighborsRegressor\n",
        "from sklearn.svm import SVR\n",
        "import xgboost as xbg\n",
        "from sklearn.pipeline import make_pipeline\n",
        "from prettytable import PrettyTable\n",
        "\n",
        "import statsmodels.api as sm"
      ]
    },
    {
      "cell_type": "markdown",
      "source": [
        "# Viscosity"
      ],
      "metadata": {
        "id": "t4G-1GqGyEIk"
      }
    },
    {
      "cell_type": "code",
      "source": [
        "df = pd.read_csv(\"/content/drive/MyDrive/Colab Notebooks/viscosity_pred.csv\")"
      ],
      "metadata": {
        "id": "MgATzDfD6MZc"
      },
      "execution_count": null,
      "outputs": []
    },
    {
      "cell_type": "code",
      "source": [
        "df.sample(5)"
      ],
      "metadata": {
        "id": "b9X2xg3p6xyZ"
      },
      "execution_count": null,
      "outputs": []
    },
    {
      "cell_type": "code",
      "source": [
        "df.shape"
      ],
      "metadata": {
        "id": "nNAiA-YT612P"
      },
      "execution_count": null,
      "outputs": []
    },
    {
      "cell_type": "code",
      "source": [
        "len(df.columns)"
      ],
      "metadata": {
        "id": "9fxYFgrmln-A"
      },
      "execution_count": null,
      "outputs": []
    },
    {
      "cell_type": "code",
      "source": [
        "df['basefluid'] = 1000*df['basefluid']\n",
        "df['mixture'] = 1000*df['mixture']"
      ],
      "metadata": {
        "id": "fqCaBiFIl5_6"
      },
      "execution_count": null,
      "outputs": []
    },
    {
      "cell_type": "code",
      "source": [
        "df.sample(5)"
      ],
      "metadata": {
        "id": "pEEt148ll6Hq"
      },
      "execution_count": null,
      "outputs": []
    },
    {
      "cell_type": "code",
      "source": [
        "df = pd.get_dummies(df,dummy_na=False,drop_first=True)"
      ],
      "metadata": {
        "id": "lHfuiZFaAYYe"
      },
      "execution_count": null,
      "outputs": []
    },
    {
      "cell_type": "code",
      "source": [
        "df.sample(5)"
      ],
      "metadata": {
        "id": "YynrqFp1AwDL"
      },
      "execution_count": null,
      "outputs": []
    },
    {
      "cell_type": "code",
      "source": [
        "df.shape[0]"
      ],
      "metadata": {
        "id": "-xP8edVxAyDO"
      },
      "execution_count": null,
      "outputs": []
    },
    {
      "cell_type": "code",
      "source": [
        "df.describe(include=\"all\")"
      ],
      "metadata": {
        "id": "tqEzvuY0A0tN"
      },
      "execution_count": null,
      "outputs": []
    },
    {
      "cell_type": "code",
      "source": [
        "corr=df.corr()\n",
        "sns.heatmap(corr,annot=True)\n",
        "\n",
        "sns.set(rc={'figure.figsize':(25,25)})"
      ],
      "metadata": {
        "id": "zpKIKMYmBBTO"
      },
      "execution_count": null,
      "outputs": []
    },
    {
      "cell_type": "code",
      "source": [
        "X = df.drop([\"mixture\",\"mass_frac\"],axis=1)\n",
        "X"
      ],
      "metadata": {
        "id": "tdalLjs2Brcb"
      },
      "execution_count": null,
      "outputs": []
    },
    {
      "cell_type": "code",
      "source": [
        "y = df[\"mixture\"]\n",
        "y"
      ],
      "metadata": {
        "id": "Vvcj5liHCijI"
      },
      "execution_count": null,
      "outputs": []
    },
    {
      "cell_type": "markdown",
      "source": [
        "# OLS MOdel for testing"
      ],
      "metadata": {
        "id": "RVr18PZpYz2H"
      }
    },
    {
      "cell_type": "code",
      "source": [
        "X = sm.add_constant(X)\n",
        "result = sm.OLS(y, X).fit()\n",
        "print(result.summary())"
      ],
      "metadata": {
        "id": "BLYtFL-_Y4Wg"
      },
      "execution_count": null,
      "outputs": []
    },
    {
      "cell_type": "code",
      "source": [
        "X_train, X_test, y_train, y_test = train_test_split(X, y, test_size=0.15, random_state=9)\n",
        "print(X_train.shape,X_test.shape,y_train.shape,y_test.shape)"
      ],
      "metadata": {
        "id": "NJt9xG6ADmBK"
      },
      "execution_count": null,
      "outputs": []
    },
    {
      "cell_type": "code",
      "source": [
        "lr = LinearRegression()\n",
        "lr.fit(X_train,y_train)\n",
        "\n",
        "y_pred = lr.predict(X_test)\n",
        "print(\"MAE= \",mean_absolute_error(y_test, y_pred),\"MSE=\",mean_squared_error(y_test,y_pred),\"R2\",r2_score(y_test, y_pred))"
      ],
      "metadata": {
        "id": "7FpS86LGDv9a"
      },
      "execution_count": null,
      "outputs": []
    },
    {
      "cell_type": "code",
      "source": [
        "# learning curve\n",
        "pipeline = make_pipeline(StandardScaler(with_mean=False),LinearRegression(fit_intercept=False,n_jobs=1))\n",
        "\n",
        "train_sizes, train_scores, test_scores = learning_curve(estimator=pipeline, X=X_train, y=y_train,\n",
        "                                                        cv=10, train_sizes=np.linspace(0.1, 1.0, 10),\n",
        "                                                        n_jobs=1)\n",
        "\n",
        "train_mean = np.mean(train_scores, axis=1)\n",
        "train_std = np.std(train_scores, axis=1)\n",
        "test_mean = np.mean(test_scores, axis=1)\n",
        "test_std = np.std(test_scores, axis=1)\n",
        "\n",
        "plt.figure(figsize=(9,7))\n",
        "plt.plot(train_sizes, train_mean, color='blue', marker='o', markersize=5, label='Training Accuracy')\n",
        "plt.plot(train_sizes, test_mean, color='green', marker='+', markersize=5, linestyle='--', label='Test Accuracy')\n",
        "# plt.figure(figsize=(1,1))\n",
        "\n",
        "plt.title('Learning Curve')\n",
        "plt.xlabel('Training Data Size')\n",
        "plt.ylabel('Model accuracy')\n",
        "plt.grid()\n",
        "plt.legend(loc='lower right')\n",
        "plt.show()"
      ],
      "metadata": {
        "id": "2Ufbu48kx6yn"
      },
      "execution_count": null,
      "outputs": []
    },
    {
      "cell_type": "code",
      "source": [
        "parameters = {\"fit_intercept\": [True, False],\n",
        "              \"n_jobs\":[1,2,3,4,5,6] \n",
        "             }\n",
        "             \n",
        "cv = RepeatedKFold(n_splits=10, n_repeats=3, random_state=1)\n",
        "grid = GridSearchCV(estimator=lr, param_grid = parameters, cv = cv, n_jobs=-1)\n",
        "grid.fit(X_train, y_train)\n",
        "y_pred_lr = grid.predict(X_test)"
      ],
      "metadata": {
        "id": "pNY-IXXODzAe"
      },
      "execution_count": null,
      "outputs": []
    },
    {
      "cell_type": "code",
      "source": [
        "r_sq = r2_score(y_test, y_pred_lr)\n",
        "adj_r2_lr = 1-((1-r_sq)*(df.shape[0])/(df.shape[0]-df.shape[1]-1))\n",
        "print(\"MAE= \",mean_absolute_error(y_test, y_pred_lr),\"MSE=\",mean_squared_error(y_test,y_pred_lr),\"R2\",r2_score(y_test, y_pred_lr),\"   adj_R2\",adj_r2_lr)\n",
        "print('MAE: %.3f' % grid.best_score_)\n",
        "print('Config: %s' % grid.best_params_)"
      ],
      "metadata": {
        "id": "TKNf4aD5D2vt"
      },
      "execution_count": null,
      "outputs": []
    },
    {
      "cell_type": "markdown",
      "source": [
        "# Gaussian Progress Regression"
      ],
      "metadata": {
        "id": "CxYNvYqyEdC4"
      }
    },
    {
      "cell_type": "code",
      "source": [
        "kernel = gp.kernels.ConstantKernel(1.0, (1e-1, 1e3)) * gp.kernels.RBF(10.0, (1e-3, 1e3))\n",
        "model = gp.GaussianProcessRegressor(kernel=kernel, n_restarts_optimizer=100, alpha=0.1, normalize_y=True)\n",
        "model.fit(X_train, y_train)\n",
        "\n",
        "y_pred, std = model.predict(X_test, return_std=True)\n",
        "print(\"MAE= \",mean_absolute_error(y_test, y_pred),\"MSE=\",mean_squared_error(y_test,y_pred),\"R2\",r2_score(y_test, y_pred))"
      ],
      "metadata": {
        "id": "pi2O26zbD_MY"
      },
      "execution_count": null,
      "outputs": []
    },
    {
      "cell_type": "code",
      "source": [
        "param_grid = [{\n",
        "    \"alpha\":  [1e-2, 1e-3],\n",
        "    \"kernel\": [RBF(l) for l in np.logspace(-1, 1, 3)]\n",
        "}, {\n",
        "    \"alpha\":  [1e-2, 1e-3],\n",
        "    \"kernel\": [DotProduct(sigma_0) for sigma_0 in np.logspace(-1, 1, 3)]\n",
        "}]\n",
        "\n",
        "# scores = ['explained_variance', 'r2']\n",
        "\n",
        "\n",
        "# for score in scores:\n",
        "# print(\"# Tuning hyper-parameters for %s\" % score)\n",
        "# print()\n",
        "    \n",
        "    # sc = StandardScaler().fit(X_train)\n",
        "    # X_train_sc = sc.fit_transform(X_train)\n",
        "    # X_test_sc = sc.fit_transform(X_test)\n",
        "\n",
        "clf = GridSearchCV(estimator=gp.GaussianProcessRegressor(), param_grid=param_grid, cv=cv,scoring='r2')\n",
        "clf.fit(X_train, y_train)\n",
        "y_pred_gp = clf.predict(X_test)"
      ],
      "metadata": {
        "id": "DmT-Tx_IEsBq"
      },
      "execution_count": null,
      "outputs": []
    },
    {
      "cell_type": "code",
      "source": [
        "# for score in scores:\n",
        "r_sq = r2_score(y_test, y_pred_gp)\n",
        "adj_r2_gp = 1-((1-r_sq)*(df.shape[0])/(df.shape[0]-df.shape[1]-1))\n",
        "print(\"MAE= \",mean_absolute_error(y_test, y_pred_gp),\"MSE=\",mean_squared_error(y_test,y_pred_gp),\"R2\",r2_score(y_test, y_pred_gp),\"  Adj R2\",adj_r2_gp)\n",
        "print('MAE: %.3f' % clf.best_score_)\n",
        "print('Config: %s' % clf.best_params_)"
      ],
      "metadata": {
        "id": "uPKExY7T__8p"
      },
      "execution_count": null,
      "outputs": []
    },
    {
      "cell_type": "code",
      "source": [
        "# learning curve\n",
        "pipeline = make_pipeline(StandardScaler(with_mean=False),gp.GaussianProcessRegressor(alpha=0.01,kernel=RBF(length_scale=1)))\n",
        "\n",
        "train_sizes, train_scores, test_scores = learning_curve(estimator=pipeline, X=X_train, y=y_train,\n",
        "                                                        cv=10, train_sizes=np.linspace(0.1, 1.0, 10),\n",
        "                                                        n_jobs=1)\n",
        "\n",
        "train_mean = np.mean(train_scores, axis=1)\n",
        "train_std = np.std(train_scores, axis=1)\n",
        "test_mean = np.mean(test_scores, axis=1)\n",
        "test_std = np.std(test_scores, axis=1)\n",
        "\n",
        "plt.figure(figsize=(9,7))\n",
        "plt.plot(train_sizes, train_mean, color='blue', marker='o', markersize=5, label='Training Accuracy')\n",
        "plt.plot(train_sizes, test_mean, color='green', marker='+', markersize=5, linestyle='--', label='Test Accuracy')\n",
        "# plt.figure(figsize=(1,1))\n",
        "\n",
        "plt.title('Learning Curve')\n",
        "plt.xlabel('Training Data Size')\n",
        "plt.ylabel('Model accuracy')\n",
        "plt.grid()\n",
        "plt.legend(loc='lower right')\n",
        "plt.show()"
      ],
      "metadata": {
        "id": "RIrz00335KFP"
      },
      "execution_count": null,
      "outputs": []
    },
    {
      "cell_type": "markdown",
      "source": [
        "# Random forest"
      ],
      "metadata": {
        "id": "3WZl_C_cA_qx"
      }
    },
    {
      "cell_type": "code",
      "source": [
        "y_test = np.array(y_test)\n",
        "from sklearn.ensemble import RandomForestRegressor\n",
        "rf = RandomForestRegressor(n_estimators = 100, random_state = 6666)\n",
        "rf.fit(X_train, y_train)\n",
        "\n",
        "y_pred = rf.predict(X_test)\n",
        "\n",
        "print(\"MAE= \",mean_absolute_error(y_test, y_pred),\"MSE=\",mean_squared_error(y_test,y_pred),\"R2\",r2_score(y_test, y_pred))"
      ],
      "metadata": {
        "id": "bbUH7m8XATcy"
      },
      "execution_count": null,
      "outputs": []
    },
    {
      "cell_type": "code",
      "source": [
        "cv = RepeatedKFold(n_splits=10, n_repeats=3, random_state=1)\n",
        "\n",
        "# from sklearn.model_selection import RandomizedSearchCV# Number of trees in random forest\n",
        "n_estimators = [int(x) for x in np.linspace(start = 200, stop = 2000, num = 10)]\n",
        "# Number of features to consider at every split\n",
        "max_features = ['auto', 'sqrt']\n",
        "# Maximum number of levels in tree\n",
        "max_depth = [int(x) for x in np.linspace(10, 110, num = 11)]\n",
        "max_depth.append(None)\n",
        "# Minimum number of samples required to split a node\n",
        "min_samples_split = [2, 5, 10]\n",
        "# Minimum number of samples required at each leaf node\n",
        "min_samples_leaf = [1, 2, 4]\n",
        "# Method of selecting samples for training each tree\n",
        "bootstrap = [True, False]\n",
        "cv = RepeatedKFold(n_splits=10, n_repeats=3, random_state=1)\n",
        "\n",
        "random_grid = {'n_estimators': n_estimators,\n",
        "               'max_features': max_features,\n",
        "               'max_depth': max_depth,\n",
        "               'min_samples_split': min_samples_split,\n",
        "               'min_samples_leaf': min_samples_leaf,\n",
        "               'bootstrap': bootstrap}\n",
        "\n",
        "print(random_grid)"
      ],
      "metadata": {
        "id": "5kShamkmBtt-"
      },
      "execution_count": null,
      "outputs": []
    },
    {
      "cell_type": "code",
      "source": [
        "rf = RandomForestRegressor()\n",
        "rf_random = RandomizedSearchCV(estimator = rf, param_distributions = random_grid, n_iter = 15, cv = cv, verbose=2, random_state=42, n_jobs = -1)\n",
        "rf_random.fit(X_train,y_train)\n",
        "y_pred_rf = rf_random.predict(X_test)"
      ],
      "metadata": {
        "id": "aNJCrBPXCYow"
      },
      "execution_count": null,
      "outputs": []
    },
    {
      "cell_type": "code",
      "source": [
        "r_sq = r2_score(y_test, y_pred_rf)\n",
        "adj_r2_rf = 1-((1-r_sq)*(df.shape[0])/(df.shape[0]-df.shape[1]-1))\n",
        "print(\"MAE= \",mean_absolute_error(y_test, y_pred_rf),\"MSE=\",mean_squared_error(y_test,y_pred_rf),\"R2\",r2_score(y_test, y_pred_rf),\"  Adj_r2  \",adj_r2_rf)\n",
        "print('Best score',rf_random.best_score_)\n",
        "print(\"best params \",rf_random.best_params_)"
      ],
      "metadata": {
        "id": "Do9MZQKYCj3x"
      },
      "execution_count": null,
      "outputs": []
    },
    {
      "cell_type": "markdown",
      "source": [
        "# Support Vector Machines"
      ],
      "metadata": {
        "id": "17G5t9wYC7cV"
      }
    },
    {
      "cell_type": "code",
      "source": [
        "sc = StandardScaler().fit(X_train)\n",
        "X_train_std = sc.transform(X_train)\n",
        "X_test_std = sc.transform(X_test)\n",
        "\n",
        "svr = SVR(kernel=\"rbf\",C=500)\n",
        "svr.fit(X_train_std,y_train)\n",
        "y_test_pred = svr.predict(X_test_std)\n",
        "\n",
        "print(\"MAE= \",mean_absolute_error(y_test, y_test_pred),\"MSE=\",mean_squared_error(y_test,y_test_pred),\"R2\",r2_score(y_test, y_test_pred))"
      ],
      "metadata": {
        "id": "jZwy0BSrCuS_"
      },
      "execution_count": null,
      "outputs": []
    },
    {
      "cell_type": "code",
      "source": [
        "\n",
        "# from sklearn.externals._packaging.version import SubLocalType\n",
        "parameters = {'kernel': ('linear', 'rbf','poly'), 'C':[1.5, 10],'gamma': [1e-7, 1e-4],'epsilon':[0.1,0.2,0.5,0.3]}\n",
        "\n",
        "clf = GridSearchCV(SVR(), parameters)\n",
        "sc = StandardScaler().fit(X_train)\n",
        "\n",
        "SC = StandardScaler()\n",
        "X_train_sc = sc.fit_transform(X_train)\n",
        "X_test_sc = sc.fit_transform(X_test)\n",
        "\n",
        "clf.fit(X_train,y_train)\n",
        "y_pred_svr = clf.predict(X_test)"
      ],
      "metadata": {
        "id": "5R7a0SnKDAHr"
      },
      "execution_count": null,
      "outputs": []
    },
    {
      "cell_type": "code",
      "source": [
        "r_sq = r2_score(y_test, y_pred_svr)\n",
        "adj_r2_svr = 1-((1-r_sq)*(df.shape[0])/(df.shape[0]-df.shape[1]-1))\n",
        "print(\"MAE= \",mean_absolute_error(y_test, y_pred_svr),\"MSE=\",mean_squared_error(y_test,y_pred_svr),\"R2\",r2_score(y_test, y_pred_svr),\" Adj_r2\",adj_r2_svr)\n",
        "print('MAE: %.3f' % clf.best_score_)\n",
        "print('Config: %s' % clf.best_params_)"
      ],
      "metadata": {
        "id": "nPU5dqEkDNL5"
      },
      "execution_count": null,
      "outputs": []
    },
    {
      "cell_type": "markdown",
      "source": [
        "# Ridge Regression"
      ],
      "metadata": {
        "id": "Kh0bfL6dRgIe"
      }
    },
    {
      "cell_type": "code",
      "source": [
        "from sklearn.linear_model import RidgeCV,Ridge,Lasso\n",
        "from sklearn.model_selection import RepeatedKFold\n",
        "from sklearn.model_selection import GridSearchCV\n",
        "\n",
        "# X_train_std = sc.fit_transform(X_train)\n",
        "# X_test_std = sc.fit_transform(X_test)\n",
        "r_alphas = np.logspace(0, 5, 100)\n",
        "\n",
        "\n",
        "ridge_model = RidgeCV(alphas=r_alphas, scoring='r2')\n",
        "\n",
        "ridge_model = ridge_model.fit(X_train, y_train)\n",
        "\n",
        "y_pred = ridge_model.predict(X_test)"
      ],
      "metadata": {
        "id": "OiRqMwxNDPZE"
      },
      "execution_count": null,
      "outputs": []
    },
    {
      "cell_type": "code",
      "source": [
        "print(\"MAE= \",mean_absolute_error(y_test, y_pred),\"MSE=\",mean_squared_error(y_test,y_pred),\"R2\",r2_score(y_test, y_pred))"
      ],
      "metadata": {
        "id": "eGlakwRgRoKW"
      },
      "execution_count": null,
      "outputs": []
    },
    {
      "cell_type": "code",
      "source": [
        "ridge_model = Ridge(alpha=1)\n",
        "\n",
        "ridge_model.fit(X_train,y_train)\n",
        "\n",
        "y_pred = ridge_model.predict(X_test)\n",
        "\n",
        "print(\"MAE= \",mean_absolute_error(y_test, y_pred),\"MSE=\",mean_squared_error(y_test,y_pred),\"R2\",r2_score(y_test, y_pred))"
      ],
      "metadata": {
        "id": "2aWzRO4NRtwN"
      },
      "execution_count": null,
      "outputs": []
    },
    {
      "cell_type": "code",
      "source": [
        "model = Ridge()\n",
        "# define model evaluation method\n",
        "cv = RepeatedKFold(n_splits=6, n_repeats=4, random_state=243)\n",
        "# define grid\n",
        "grid = dict()\n",
        "\n",
        "grid['alpha'] = np.arange(0, 1, 0.01)\n",
        "\n",
        "search = GridSearchCV(model, grid, scoring='neg_mean_absolute_error', cv=cv, n_jobs=-1)\n",
        "\n",
        "search.fit(X_train,y_train)\n",
        "\n",
        "y_pred_ri = search.predict(X_test)"
      ],
      "metadata": {
        "id": "FdvwJtDjRzKl"
      },
      "execution_count": null,
      "outputs": []
    },
    {
      "cell_type": "code",
      "source": [
        "r_sq = r2_score(y_test, y_pred_ri)\n",
        "adj_r2_ri = 1-((1-r_sq)*(df.shape[0])/(df.shape[0]-df.shape[1]-1))\n",
        "print(\"MAE= \",mean_absolute_error(y_test, y_pred_ri),\"MSE=\",mean_squared_error(y_test,y_pred_ri),\"R2\",r2_score(y_test, y_pred_ri),\" Adj_R2\",adj_r2_ri)\n",
        "print('MAE: %.3f' % search.best_score_)\n",
        "print('Config: %s' % search.best_params_)"
      ],
      "metadata": {
        "id": "Yk-DQrb8SB1O"
      },
      "execution_count": null,
      "outputs": []
    },
    {
      "cell_type": "markdown",
      "source": [
        "# Lasso Regression"
      ],
      "metadata": {
        "id": "wjgxCt3jSNIP"
      }
    },
    {
      "cell_type": "code",
      "source": [
        "lasso_model = Lasso(alpha=0)\n",
        "# define model evaluation method\n",
        "lasso_model.fit(X_train,y_train)\n",
        "\n",
        "y_pred = lasso_model.predict(X_test)\n",
        "\n",
        "print(\"MAE= \",mean_absolute_error(y_test, y_pred),\"MSE=\",mean_squared_error(y_test,y_pred),\"R2\",r2_score(y_test, y_pred))"
      ],
      "metadata": {
        "id": "43htJUEDSGOz"
      },
      "execution_count": null,
      "outputs": []
    },
    {
      "cell_type": "code",
      "source": [
        "model = Lasso()\n",
        "# define model evaluation method\n",
        "cv = RepeatedKFold(n_splits=10, n_repeats=3, random_state=1)\n",
        "# define grid\n",
        "grid = dict()\n",
        "grid['alpha'] = np.arange(0, 1, 0.01)\n",
        "# define search\n",
        "lasso = GridSearchCV(model, grid, scoring='neg_mean_absolute_error', cv=cv, n_jobs=-1)\n",
        "# perform the search\n",
        "lasso.fit(X, y)\n",
        "\n",
        "y_pred_ls = lasso.predict(X_test)"
      ],
      "metadata": {
        "id": "7bA0_LRbSUfu"
      },
      "execution_count": null,
      "outputs": []
    },
    {
      "cell_type": "code",
      "source": [
        "r_sq = r2_score(y_test, y_pred_ls)\n",
        "adj_r2_ls = 1-((1-r_sq)*(df.shape[0])/(df.shape[0]-df.shape[1]-1))\n",
        "print(\"MAE= \",mean_absolute_error(y_test, y_pred_ls),\"MSE=\",mean_squared_error(y_test,y_pred_ls),\"R2\",r2_score(y_test, y_pred_ls),\"Adj R2\",adj_r2_ls)\n",
        "print('MAE: %.3f' % lasso.best_score_)\n",
        "print('Config: %s' % lasso.best_params_)"
      ],
      "metadata": {
        "id": "arT9V267Sduc"
      },
      "execution_count": null,
      "outputs": []
    },
    {
      "cell_type": "markdown",
      "source": [
        "# KNN model"
      ],
      "metadata": {
        "id": "Mv-n-hwCt3T6"
      }
    },
    {
      "cell_type": "code",
      "source": [
        "knn  = KNeighborsRegressor(n_neighbors=3)\n",
        "knn.fit(X_train,y_train)\n",
        "y_pred = knn.predict(X_test)\n",
        "print(\"MAE= \",mean_absolute_error(y_test, y_pred),\"MSE=\",mean_squared_error(y_test,y_pred),\"R2\",r2_score(y_test, y_pred))"
      ],
      "metadata": {
        "id": "AebddxPFSiwg"
      },
      "execution_count": null,
      "outputs": []
    },
    {
      "cell_type": "code",
      "source": [
        "cv = RepeatedKFold(n_splits=5,n_repeats=3,random_state=999)\n",
        "params = [{'n_neighbors': [2,3,4,5,6,7,8,9,10,11,12,13,14,15], \n",
        "           'weights': ['uniform','distance'],\n",
        "           'p':[1,2,5],\n",
        "           'algorithm':['auto','ball_tree','kd_tree','brute']}]\n",
        "\n",
        "best_knn = GridSearchCV(estimator=KNeighborsRegressor(), \n",
        "                      param_grid=params, \n",
        "                      cv=cv,\n",
        "                      verbose=1,  \n",
        "                      scoring='r2', \n",
        "                      return_train_score=True)\n",
        "best_knn.fit(X_train,y_train)\n",
        "y_pred_knn = best_knn.predict(X_test)"
      ],
      "metadata": {
        "id": "nVf1xKcoRqfk"
      },
      "execution_count": null,
      "outputs": []
    },
    {
      "cell_type": "code",
      "source": [
        "r_sq = r2_score(y_test, y_pred_knn)\n",
        "adj_r2_knn = 1-((1-r_sq)*(df.shape[0])/(df.shape[0]-df.shape[1]-1))\n",
        "print(\"MAE= \",mean_absolute_error(y_test, y_pred_knn),\"MSE=\",mean_squared_error(y_test,y_pred_knn),\"R2\",r2_score(y_test, y_pred_knn),\"adj R2\",adj_r2_knn)\n",
        "print('MAE: %.3f' % best_knn.best_score_)\n",
        "print('Config: %s' % best_knn.best_params_)"
      ],
      "metadata": {
        "id": "_-uSkQHNVrTG"
      },
      "execution_count": null,
      "outputs": []
    },
    {
      "cell_type": "markdown",
      "source": [
        "# XGBOost"
      ],
      "metadata": {
        "id": "9Zy5tKGpKogV"
      }
    },
    {
      "cell_type": "code",
      "source": [
        "import xgboost as xgb\n",
        "xgb_model = xgb.XGBRegressor(objective ='reg:squarederror')\n",
        "xgb_model.fit(X_train,y_train)\n",
        "y_pred = xgb_model.predict(X_test)\n",
        "\n",
        "print(\"MAE= \",mean_absolute_error(y_test, y_pred),\"MSE=\",mean_squared_error(y_test,y_pred),\"R2\",r2_score(y_test, y_pred))"
      ],
      "metadata": {
        "id": "5E-Kl2BRzQNh"
      },
      "execution_count": null,
      "outputs": []
    },
    {
      "cell_type": "code",
      "source": [
        "hyperparameter_grid = {\n",
        "    'n_estimators': [100, 500, 900, 1100, 1500],\n",
        "    'max_depth': [2, 3, 5, 10, 15],\n",
        "    'learning_rate': [0.05, 0.1, 0.15, 0.20],\n",
        "    'min_child_weight': [1, 2, 3, 4]\n",
        "    }\n",
        "\n",
        "cv = RepeatedKFold(n_splits=10, n_repeats=3, random_state=1)\n",
        "\n",
        "random_cv = RandomizedSearchCV(estimator=xgb_model,\n",
        "            param_distributions=hyperparameter_grid,\n",
        "            cv=cv, n_iter=50,\n",
        "            scoring = 'neg_mean_absolute_error',n_jobs = 4,\n",
        "            verbose = 5, \n",
        "            return_train_score = True,\n",
        "            random_state=42)\n",
        "random_cv.fit(X_train,y_train)\n",
        "y_pred_xgb = random_cv.predict(X_test)"
      ],
      "metadata": {
        "id": "F6cod5adyWHw"
      },
      "execution_count": null,
      "outputs": []
    },
    {
      "cell_type": "code",
      "source": [
        "r_sq = r2_score(y_test, y_pred_xgb)\n",
        "adj_r2_xgb = 1-((1-r_sq)*(df.shape[0])/(df.shape[0]-df.shape[1]-1))\n",
        "print(\"MAE= \",mean_absolute_error(y_test, y_pred_xgb),\"MSE=\",mean_squared_error(y_test,y_pred_xgb),\"R2\",r2_score(y_test, y_pred_xgb),\"Adj R2\",adj_r2_xgb)\n",
        "print('MAE: %.3f' % random_cv.best_score_)\n",
        "print('Config: %s' % random_cv.best_params_)"
      ],
      "metadata": {
        "id": "DdibUkRWOrUq"
      },
      "execution_count": null,
      "outputs": []
    },
    {
      "cell_type": "markdown",
      "source": [
        "# Table of result for viscosity"
      ],
      "metadata": {
        "id": "FTzIyF8sGx3x"
      }
    },
    {
      "cell_type": "code",
      "source": [
        "\n",
        "# Specify the Column Names while initializing the Table\n",
        "viscosity = PrettyTable([\"Model\", \"MAE\", \"MSE\", \"R2\",\"Adj R2\"])\n",
        "\n",
        "viscosity.add_row([\"Linear Regression\",mean_absolute_error(y_test, y_pred_lr),mean_squared_error(y_test,y_pred_lr),r2_score(y_test, y_pred_lr),adj_r2_lr])\n",
        "viscosity.add_row([\"Gaussian Progression Regressor\",mean_absolute_error(y_test, y_pred_gp),mean_squared_error(y_test,y_pred_gp),r2_score(y_test, y_pred_gp),adj_r2_gp])\n",
        "viscosity.add_row([\"Random Forest\",mean_absolute_error(y_test, y_pred_rf),mean_squared_error(y_test,y_pred_rf),r2_score(y_test, y_pred_rf),adj_r2_rf])\n",
        "viscosity.add_row([\"Support Vector Regressor\",mean_absolute_error(y_test, y_pred_svr),mean_squared_error(y_test,y_pred_svr),r2_score(y_test, y_pred_svr),adj_r2_svr])\n",
        "viscosity.add_row([\"Ridge Regression\",mean_absolute_error(y_test, y_pred_ri),mean_squared_error(y_test,y_pred_ri),r2_score(y_test, y_pred_ri),adj_r2_ri])\n",
        "viscosity.add_row([\"Lasso Regression\",mean_absolute_error(y_test, y_pred_ls),mean_squared_error(y_test,y_pred_ls),r2_score(y_test, y_pred_ls),adj_r2_ls])\n",
        "viscosity.add_row([\"K nearest Neighbours\",mean_absolute_error(y_test, y_pred_knn),mean_squared_error(y_test,y_pred_knn),r2_score(y_test, y_pred_knn),adj_r2_knn])\n",
        "viscosity.add_row([\"XG boost\",mean_absolute_error(y_test, y_pred_xgb),mean_squared_error(y_test,y_pred_xgb),r2_score(y_test, y_pred_xgb),adj_r2_xgb])\n"
      ],
      "metadata": {
        "id": "iG2KoWdlV_wk"
      },
      "execution_count": null,
      "outputs": []
    },
    {
      "cell_type": "code",
      "source": [
        "print(viscosity)"
      ],
      "metadata": {
        "id": "Z94i02DOgqSl"
      },
      "execution_count": null,
      "outputs": []
    },
    {
      "cell_type": "markdown",
      "source": [
        "# Density"
      ],
      "metadata": {
        "id": "ci1gboXbHXy7"
      }
    },
    {
      "cell_type": "code",
      "source": [
        "df = pd.read_csv(\"/content/drive/MyDrive/Colab Notebooks/density.csv\")"
      ],
      "metadata": {
        "id": "Oujs8VQsJE2U"
      },
      "execution_count": null,
      "outputs": []
    },
    {
      "cell_type": "code",
      "source": [
        "df.sample(5)"
      ],
      "metadata": {
        "id": "eZOuX00wJE2W"
      },
      "execution_count": null,
      "outputs": []
    },
    {
      "cell_type": "code",
      "source": [
        "df.shape"
      ],
      "metadata": {
        "id": "JecyT5wZJE2X"
      },
      "execution_count": null,
      "outputs": []
    },
    {
      "cell_type": "code",
      "source": [
        "len(df.columns)"
      ],
      "metadata": {
        "id": "VRyCGmxXJE2Y"
      },
      "execution_count": null,
      "outputs": []
    },
    {
      "cell_type": "code",
      "source": [
        "df = pd.get_dummies(df,dummy_na=False,drop_first=True)"
      ],
      "metadata": {
        "id": "FUrz_L-QJE2a"
      },
      "execution_count": null,
      "outputs": []
    },
    {
      "cell_type": "code",
      "source": [
        "df.sample(5)"
      ],
      "metadata": {
        "id": "cdyqhEf1JE2c"
      },
      "execution_count": null,
      "outputs": []
    },
    {
      "cell_type": "code",
      "source": [
        "df.shape"
      ],
      "metadata": {
        "id": "iG4f2bQMJE2d"
      },
      "execution_count": null,
      "outputs": []
    },
    {
      "cell_type": "code",
      "source": [
        "df.describe(include=\"all\")"
      ],
      "metadata": {
        "id": "dk-RT-uPJE2e"
      },
      "execution_count": null,
      "outputs": []
    },
    {
      "cell_type": "code",
      "source": [
        "corr=df.corr()\n",
        "sns.heatmap(corr,annot=True)\n",
        "\n",
        "sns.set(rc={'figure.figsize':(10,10)})"
      ],
      "metadata": {
        "id": "kCWDKAd3JE2e"
      },
      "execution_count": null,
      "outputs": []
    },
    {
      "cell_type": "code",
      "source": [
        "X = df.drop([\"mixture\",\"mass_frac\"],axis=1)\n",
        "X"
      ],
      "metadata": {
        "id": "Bq_mP8g9JE2f"
      },
      "execution_count": null,
      "outputs": []
    },
    {
      "cell_type": "code",
      "source": [
        "y = df[\"mixture\"]\n",
        "y"
      ],
      "metadata": {
        "id": "3mE4K1m9JE2g"
      },
      "execution_count": null,
      "outputs": []
    },
    {
      "cell_type": "markdown",
      "source": [
        "# OLS test model"
      ],
      "metadata": {
        "id": "6YEZOx8y0UiB"
      }
    },
    {
      "cell_type": "code",
      "source": [
        "X = sm.add_constant(X)\n",
        "result = sm.OLS(y, X).fit()\n",
        "print(result.summary())"
      ],
      "metadata": {
        "id": "qjTIOKPp0dSW"
      },
      "execution_count": null,
      "outputs": []
    },
    {
      "cell_type": "code",
      "source": [
        "X_train, X_test, y_train, y_test = train_test_split(X, y, test_size=0.15, random_state=9)\n",
        "print(X_train.shape,X_test.shape,y_train.shape,y_test.shape)"
      ],
      "metadata": {
        "id": "LxJwAMf0JE2h"
      },
      "execution_count": null,
      "outputs": []
    },
    {
      "cell_type": "code",
      "source": [
        "lr = LinearRegression()\n",
        "lr.fit(X_train,y_train)\n",
        "\n",
        "y_pred = lr.predict(X_test)\n",
        "print(\"MAE= \",mean_absolute_error(y_test, y_pred),\"MSE=\",mean_squared_error(y_test,y_pred),\"R2\",r2_score(y_test, y_pred))"
      ],
      "metadata": {
        "id": "KuRlN5PHJE2h"
      },
      "execution_count": null,
      "outputs": []
    },
    {
      "cell_type": "code",
      "source": [
        "# learning curve\n",
        "pipeline = make_pipeline(StandardScaler(with_mean=False),LinearRegression(fit_intercept=False,n_jobs=1))\n",
        "\n",
        "train_sizes, train_scores, test_scores = learning_curve(estimator=pipeline, X=X_train, y=y_train,\n",
        "                                                        cv=10, train_sizes=np.linspace(0.1, 1.0, 10),\n",
        "                                                        n_jobs=1)\n",
        "\n",
        "train_mean = np.mean(train_scores, axis=1)\n",
        "train_std = np.std(train_scores, axis=1)\n",
        "test_mean = np.mean(test_scores, axis=1)\n",
        "test_std = np.std(test_scores, axis=1)\n",
        "\n",
        "plt.figure(figsize=(9,7))\n",
        "plt.plot(train_sizes, train_mean, color='red', marker='o', markersize=5, label='Training Accuracy')\n",
        "plt.plot(train_sizes, test_mean, color='green', marker='+', markersize=5, linestyle='--', label='Test Accuracy')\n",
        "# plt.figure(figsize=(1,1))\n",
        "\n",
        "plt.title('Learning Curve')\n",
        "plt.xlabel('Training Data Size')\n",
        "plt.ylabel('Model accuracy')\n",
        "plt.grid()\n",
        "plt.legend(loc='lower right')\n",
        "plt.show()"
      ],
      "metadata": {
        "id": "MZIrl4-KJE2i"
      },
      "execution_count": null,
      "outputs": []
    },
    {
      "cell_type": "code",
      "source": [
        "parameters = {\"fit_intercept\": [True, False],\n",
        "              \"n_jobs\":[1,2,3,4,5,6] \n",
        "             }\n",
        "             \n",
        "cv = RepeatedKFold(n_splits=10, n_repeats=3, random_state=1)\n",
        "grid = GridSearchCV(estimator=lr, param_grid = parameters, cv = cv, n_jobs=-1)\n",
        "grid.fit(X_train, y_train)\n",
        "y_pred_lr = grid.predict(X_test)"
      ],
      "metadata": {
        "id": "5qbDpYsNJE2j"
      },
      "execution_count": null,
      "outputs": []
    },
    {
      "cell_type": "code",
      "source": [
        "r_sq = r2_score(y_test, y_pred_lr)\n",
        "adj_r2_lr = 1-((1-r_sq)*(df.shape[0])/(df.shape[0]-df.shape[1]-1))\n",
        "print(\"MAE= \",mean_absolute_error(y_test, y_pred_lr),\"MSE=\",mean_squared_error(y_test,y_pred_lr),\"R2\",r2_score(y_test, y_pred_lr),\"  Adj R2 \",adj_r2_lr)\n",
        "print('MAE: %.3f' % grid.best_score_)\n",
        "print('Config: %s' % grid.best_params_)"
      ],
      "metadata": {
        "id": "greWkTjyJE2j"
      },
      "execution_count": null,
      "outputs": []
    },
    {
      "cell_type": "markdown",
      "source": [
        "# Gaussian Progress Regression"
      ],
      "metadata": {
        "id": "jMyl3m5tJE2k"
      }
    },
    {
      "cell_type": "code",
      "source": [
        "kernel = gp.kernels.ConstantKernel(1.0, (1e-1, 1e3)) * gp.kernels.RBF(10.0, (1e-3, 1e3))\n",
        "model = gp.GaussianProcessRegressor(kernel=kernel, n_restarts_optimizer=100, alpha=0.1, normalize_y=True)\n",
        "model.fit(X_train, y_train)\n",
        "\n",
        "y_pred, std = model.predict(X_test, return_std=True)\n",
        "print(\"MAE= \",mean_absolute_error(y_test, y_pred),\"MSE=\",mean_squared_error(y_test,y_pred),\"R2\",r2_score(y_test, y_pred))"
      ],
      "metadata": {
        "id": "gcBPsLbBJE2k"
      },
      "execution_count": null,
      "outputs": []
    },
    {
      "cell_type": "code",
      "source": [
        "param_grid = [{\n",
        "    \"alpha\":  [1e-2, 1e-3],\n",
        "    \"kernel\": [RBF(l) for l in np.logspace(-1, 1, 3)]\n",
        "}, {\n",
        "    \"alpha\":  [1e-2, 1e-3],\n",
        "    \"kernel\": [DotProduct(sigma_0) for sigma_0 in np.logspace(-1, 1, 3)]\n",
        "}]\n",
        "\n",
        "# scores = ['explained_variance', 'r2']\n",
        "\n",
        "\n",
        "# for score in scores:\n",
        "# print(\"# Tuning hyper-parameters for %s\" % score)\n",
        "# print()\n",
        "    \n",
        "    # sc = StandardScaler().fit(X_train)\n",
        "    # X_train_sc = sc.fit_transform(X_train)\n",
        "    # X_test_sc = sc.fit_transform(X_test)\n",
        "\n",
        "clf = GridSearchCV(estimator=gp.GaussianProcessRegressor(), param_grid=param_grid, cv=cv,scoring='r2')\n",
        "clf.fit(X_train, y_train)\n",
        "y_pred_gp = clf.predict(X_test)"
      ],
      "metadata": {
        "id": "PzgPaoqjJE2l"
      },
      "execution_count": null,
      "outputs": []
    },
    {
      "cell_type": "code",
      "source": [
        "# for score in scores:\n",
        "r_sq = r2_score(y_test, y_pred_gp)\n",
        "adj_r2_gp = 1-((1-r_sq)*(df.shape[0])/(df.shape[0]-df.shape[1]-1))\n",
        "print(\"MAE= \",mean_absolute_error(y_test, y_pred_gp),\"MSE=\",mean_squared_error(y_test,y_pred_gp),\"R2\",r2_score(y_test, y_pred_gp),\" Adj R2 \",adj_r2_gp)\n",
        "print('MAE: %.3f' % clf.best_score_)\n",
        "print('Config: %s' % clf.best_params_)"
      ],
      "metadata": {
        "id": "50iUsu1XJE2m"
      },
      "execution_count": null,
      "outputs": []
    },
    {
      "cell_type": "code",
      "source": [
        "# learning curve\n",
        "pipeline = make_pipeline(StandardScaler(with_mean=False),gp.GaussianProcessRegressor(alpha=0.01,kernel=RBF(length_scale=1)))\n",
        "\n",
        "train_sizes, train_scores, test_scores = learning_curve(estimator=pipeline, X=X_train, y=y_train,\n",
        "                                                        cv=10, train_sizes=np.linspace(0.1, 1.0, 10),\n",
        "                                                        n_jobs=1)\n",
        "\n",
        "train_mean = np.mean(train_scores, axis=1)\n",
        "train_std = np.std(train_scores, axis=1)\n",
        "test_mean = np.mean(test_scores, axis=1)\n",
        "test_std = np.std(test_scores, axis=1)\n",
        "\n",
        "plt.figure(figsize=(9,7))\n",
        "plt.plot(train_sizes, train_mean, color='blue', marker='o', markersize=5, label='Training Accuracy')\n",
        "plt.plot(train_sizes, test_mean, color='green', marker='+', markersize=5, linestyle='--', label='Test Accuracy')\n",
        "# plt.figure(figsize=(1,1))\n",
        "\n",
        "plt.title('Learning Curve')\n",
        "plt.xlabel('Training Data Size')\n",
        "plt.ylabel('Model accuracy')\n",
        "plt.grid()\n",
        "plt.legend(loc='lower right')\n",
        "plt.show()"
      ],
      "metadata": {
        "id": "wm8KD47fJE2m"
      },
      "execution_count": null,
      "outputs": []
    },
    {
      "cell_type": "markdown",
      "source": [
        "# Random forest"
      ],
      "metadata": {
        "id": "Y63gUrClJE2o"
      }
    },
    {
      "cell_type": "code",
      "source": [
        "y_test = np.array(y_test)\n",
        "from sklearn.ensemble import RandomForestRegressor\n",
        "rf = RandomForestRegressor(n_estimators = 100, random_state = 6666)\n",
        "rf.fit(X_train, y_train)\n",
        "\n",
        "y_pred = rf.predict(X_test)\n",
        "\n",
        "print(\"MAE= \",mean_absolute_error(y_test, y_pred),\"MSE=\",mean_squared_error(y_test,y_pred),\"R2\",r2_score(y_test, y_pred))"
      ],
      "metadata": {
        "id": "y4rJXkpDJE2p"
      },
      "execution_count": null,
      "outputs": []
    },
    {
      "cell_type": "code",
      "source": [
        "cv = RepeatedKFold(n_splits=10, n_repeats=3, random_state=1)\n",
        "\n",
        "# from sklearn.model_selection import RandomizedSearchCV# Number of trees in random forest\n",
        "n_estimators = [int(x) for x in np.linspace(start = 200, stop = 2000, num = 10)]\n",
        "# Number of features to consider at every split\n",
        "max_features = ['auto', 'sqrt']\n",
        "# Maximum number of levels in tree\n",
        "max_depth = [int(x) for x in np.linspace(10, 110, num = 11)]\n",
        "max_depth.append(None)\n",
        "# Minimum number of samples required to split a node\n",
        "min_samples_split = [2, 5, 10]\n",
        "# Minimum number of samples required at each leaf node\n",
        "min_samples_leaf = [1, 2, 4]\n",
        "# Method of selecting samples for training each tree\n",
        "bootstrap = [True, False]\n",
        "cv = RepeatedKFold(n_splits=10, n_repeats=3, random_state=1)\n",
        "\n",
        "random_grid = {'n_estimators': n_estimators,\n",
        "               'max_features': max_features,\n",
        "               'max_depth': max_depth,\n",
        "               'min_samples_split': min_samples_split,\n",
        "               'min_samples_leaf': min_samples_leaf,\n",
        "               'bootstrap': bootstrap}\n",
        "\n",
        "print(random_grid)"
      ],
      "metadata": {
        "id": "AV78IQKPJE2q"
      },
      "execution_count": null,
      "outputs": []
    },
    {
      "cell_type": "code",
      "source": [
        "rf = RandomForestRegressor()\n",
        "rf_random = RandomizedSearchCV(estimator = rf, param_distributions = random_grid, n_iter = 15, cv = cv, verbose=2, random_state=42, n_jobs = -1)\n",
        "rf_random.fit(X_train,y_train)\n",
        "y_pred_rf = rf_random.predict(X_test)"
      ],
      "metadata": {
        "id": "Vc8_wF6gJE2q"
      },
      "execution_count": null,
      "outputs": []
    },
    {
      "cell_type": "code",
      "source": [
        "r_sq = r2_score(y_test, y_pred_rf)\n",
        "adj_r2_rf = 1-((1-r_sq)*(df.shape[0])/(df.shape[0]-df.shape[1]-1))\n",
        "print(\"MAE= \",mean_absolute_error(y_test, y_pred_rf),\"MSE=\",mean_squared_error(y_test,y_pred_rf),\"R2\",r2_score(y_test, y_pred_rf),\" Adj R2\",adj_r2_rf)"
      ],
      "metadata": {
        "id": "Uf-ACqRGJE2r"
      },
      "execution_count": null,
      "outputs": []
    },
    {
      "cell_type": "markdown",
      "source": [
        "# Support Vector Machines"
      ],
      "metadata": {
        "id": "6_rvnUu6JE2r"
      }
    },
    {
      "cell_type": "code",
      "source": [
        "sc = StandardScaler().fit(X_train)\n",
        "X_train_std = sc.transform(X_train)\n",
        "X_test_std = sc.transform(X_test)\n",
        "\n",
        "svr = SVR(kernel=\"rbf\",C=500)\n",
        "svr.fit(X_train_std,y_train)\n",
        "y_test_pred = svr.predict(X_test_std)\n",
        "\n",
        "print(\"MAE= \",mean_absolute_error(y_test, y_test_pred),\"MSE=\",mean_squared_error(y_test,y_test_pred),\"R2\",r2_score(y_test, y_test_pred))"
      ],
      "metadata": {
        "id": "Obt4A5azJE2s"
      },
      "execution_count": null,
      "outputs": []
    },
    {
      "cell_type": "code",
      "source": [
        "\n",
        "# from sklearn.externals._packaging.version import SubLocalType\n",
        "parameters = {'kernel': ('linear', 'rbf','poly'), 'C':[1.5, 10],'gamma': [1e-7, 1e-4],'epsilon':[0.1,0.2,0.5,0.3]}\n",
        "\n",
        "clf = GridSearchCV(SVR(), parameters)\n",
        "sc = StandardScaler().fit(X_train)\n",
        "\n",
        "SC = StandardScaler()\n",
        "X_train_sc = sc.fit_transform(X_train)\n",
        "X_test_sc = sc.fit_transform(X_test)\n",
        "\n",
        "clf.fit(X_train,y_train)\n",
        "y_pred_svr = clf.predict(X_test)"
      ],
      "metadata": {
        "id": "JZazR5qnJE2t"
      },
      "execution_count": null,
      "outputs": []
    },
    {
      "cell_type": "code",
      "source": [
        "r_sq = r2_score(y_test, y_pred_svr)\n",
        "adj_r2_svr = 1-((1-r_sq)*(df.shape[0])/(df.shape[0]-df.shape[1]-1))\n",
        "print(\"MAE= \",mean_absolute_error(y_test, y_pred_svr),\"MSE=\",mean_squared_error(y_test,y_pred_svr),\"R2\",r2_score(y_test, y_pred_svr),\"Adj_r2\",adj_r2_svr)\n",
        "print('MAE: %.3f' % clf.best_score_)\n",
        "print('Config: %s' % clf.best_params_)"
      ],
      "metadata": {
        "id": "vfIUDDwFJE2u"
      },
      "execution_count": null,
      "outputs": []
    },
    {
      "cell_type": "markdown",
      "source": [
        "# Ridge Regression"
      ],
      "metadata": {
        "id": "96lwAnpfJE2u"
      }
    },
    {
      "cell_type": "code",
      "source": [
        "from sklearn.linear_model import RidgeCV,Ridge,Lasso\n",
        "from sklearn.model_selection import RepeatedKFold\n",
        "from sklearn.model_selection import GridSearchCV\n",
        "\n",
        "# X_train_std = sc.fit_transform(X_train)\n",
        "# X_test_std = sc.fit_transform(X_test)\n",
        "r_alphas = np.logspace(0, 5, 100)\n",
        "\n",
        "\n",
        "ridge_model = RidgeCV(alphas=r_alphas, scoring='r2')\n",
        "\n",
        "ridge_model = ridge_model.fit(X_train, y_train)\n",
        "\n",
        "y_pred = ridge_model.predict(X_test)"
      ],
      "metadata": {
        "id": "MTYXA_ybJE2v"
      },
      "execution_count": null,
      "outputs": []
    },
    {
      "cell_type": "code",
      "source": [
        "\n",
        "print(\"MAE= \",mean_absolute_error(y_test, y_pred),\"MSE=\",mean_squared_error(y_test,y_pred),\"R2\",r2_score(y_test, y_pred))"
      ],
      "metadata": {
        "id": "sW81yg8CJE2v"
      },
      "execution_count": null,
      "outputs": []
    },
    {
      "cell_type": "code",
      "source": [
        "ridge_model = Ridge(alpha=1)\n",
        "\n",
        "ridge_model.fit(X_train,y_train)\n",
        "\n",
        "y_pred = ridge_model.predict(X_test)\n",
        "\n",
        "print(\"MAE= \",mean_absolute_error(y_test, y_pred),\"MSE=\",mean_squared_error(y_test,y_pred),\"R2\",r2_score(y_test, y_pred))"
      ],
      "metadata": {
        "id": "aGGMhGXYJE2v"
      },
      "execution_count": null,
      "outputs": []
    },
    {
      "cell_type": "code",
      "source": [
        "model = Ridge()\n",
        "# define model evaluation method\n",
        "cv = RepeatedKFold(n_splits=6, n_repeats=4, random_state=243)\n",
        "# define grid\n",
        "grid = dict()\n",
        "\n",
        "grid['alpha'] = np.arange(0, 1, 0.01)\n",
        "\n",
        "search = GridSearchCV(model, grid, scoring='neg_mean_absolute_error', cv=cv, n_jobs=-1)\n",
        "\n",
        "search.fit(X_train,y_train)\n",
        "\n",
        "y_pred_ri = search.predict(X_test)"
      ],
      "metadata": {
        "id": "SoF3jtQ3JE2w"
      },
      "execution_count": null,
      "outputs": []
    },
    {
      "cell_type": "code",
      "source": [
        "r_sq = r2_score(y_test, y_pred_ri)\n",
        "adj_r2_ri = 1-((1-r_sq)*(df.shape[0])/(df.shape[0]-df.shape[1]-1))\n",
        "print(\"MAE= \",mean_absolute_error(y_test, y_pred_ri),\"MSE=\",mean_squared_error(y_test,y_pred_ri),\"R2\",r2_score(y_test, y_pred_ri),adj_r2_ri)\n",
        "print('MAE: %.3f' % search.best_score_)\n",
        "print('Config: %s' % search.best_params_)"
      ],
      "metadata": {
        "id": "vRZbkEJrJE2w"
      },
      "execution_count": null,
      "outputs": []
    },
    {
      "cell_type": "markdown",
      "source": [
        "# Lasso Regression"
      ],
      "metadata": {
        "id": "hCikRj-LJE2x"
      }
    },
    {
      "cell_type": "code",
      "source": [
        "lasso_model = Lasso(alpha=0)\n",
        "# define model evaluation method\n",
        "lasso_model.fit(X_train,y_train)\n",
        "\n",
        "y_pred = lasso_model.predict(X_test)\n",
        "\n",
        "print(\"MAE= \",mean_absolute_error(y_test, y_pred),\"MSE=\",mean_squared_error(y_test,y_pred),\"R2\",r2_score(y_test, y_pred))"
      ],
      "metadata": {
        "id": "QAeQmnN-JE2x"
      },
      "execution_count": null,
      "outputs": []
    },
    {
      "cell_type": "code",
      "source": [
        "model = Lasso()\n",
        "# define model evaluation method\n",
        "cv = RepeatedKFold(n_splits=10, n_repeats=3, random_state=1)\n",
        "# define grid\n",
        "grid = dict()\n",
        "grid['alpha'] = np.arange(0, 1, 0.01)\n",
        "# define search\n",
        "lasso = GridSearchCV(model, grid, scoring='neg_mean_absolute_error', cv=cv, n_jobs=-1)\n",
        "# perform the search\n",
        "lasso.fit(X, y)\n",
        "\n",
        "y_pred_ls = lasso.predict(X_test)"
      ],
      "metadata": {
        "id": "hv4c4piSJE2y"
      },
      "execution_count": null,
      "outputs": []
    },
    {
      "cell_type": "code",
      "source": [
        "r_sq = r2_score(y_test, y_pred_ls)\n",
        "adj_r2_ls = 1-((1-r_sq)*(df.shape[0])/(df.shape[0]-df.shape[1]-1))\n",
        "print(\"MAE= \",mean_absolute_error(y_test, y_pred_ls),\"MSE=\",mean_squared_error(y_test,y_pred_ls),\"R2\",r2_score(y_test, y_pred_ls),\"Adj R2\",adj_r2_ls)\n",
        "print('MAE: %.3f' % lasso.best_score_)\n",
        "print('Config: %s' % lasso.best_params_)"
      ],
      "metadata": {
        "id": "i3-vjxp8JE2y"
      },
      "execution_count": null,
      "outputs": []
    },
    {
      "cell_type": "markdown",
      "source": [
        "# KNN model"
      ],
      "metadata": {
        "id": "Mrn3IhCmJE2y"
      }
    },
    {
      "cell_type": "code",
      "source": [
        "knn  = KNeighborsRegressor(n_neighbors=3)\n",
        "knn.fit(X_train,y_train)\n",
        "y_pred = knn.predict(X_test)\n",
        "print(\"MAE= \",mean_absolute_error(y_test, y_pred),\"MSE=\",mean_squared_error(y_test,y_pred),\"R2\",r2_score(y_test, y_pred))"
      ],
      "metadata": {
        "id": "5JVjKeIYJE2z"
      },
      "execution_count": null,
      "outputs": []
    },
    {
      "cell_type": "code",
      "source": [
        "cv = RepeatedKFold(n_splits=5,n_repeats=3,random_state=999)\n",
        "params = [{'n_neighbors': [2,3,4,5,6,7,8,9,10,11,12,13,14,15], \n",
        "           'weights': ['uniform','distance'],\n",
        "           'p':[1,2,5],\n",
        "           'algorithm':['auto','ball_tree','kd_tree','brute']}]\n",
        "\n",
        "best_knn = GridSearchCV(estimator=KNeighborsRegressor(), \n",
        "                      param_grid=params, \n",
        "                      cv=cv,\n",
        "                      verbose=1,  \n",
        "                      scoring='r2', \n",
        "                      return_train_score=True)\n",
        "best_knn.fit(X_train,y_train)\n",
        "y_pred_knn = best_knn.predict(X_test)"
      ],
      "metadata": {
        "id": "Gs4AqYxvJE2z"
      },
      "execution_count": null,
      "outputs": []
    },
    {
      "cell_type": "code",
      "source": [
        "r_sq = r2_score(y_test, y_pred_knn)\n",
        "adj_r2_knn = 1-((1-r_sq)*(df.shape[0])/(df.shape[0]-df.shape[1]-1))\n",
        "print(\"MAE= \",mean_absolute_error(y_test, y_pred_knn),\"MSE=\",mean_squared_error(y_test,y_pred_knn),\"R2\",r2_score(y_test, y_pred_knn),\"Adj R2\",adj_r2_knn)\n",
        "print('MAE: %.3f' % best_knn.best_score_)\n",
        "print('Config: %s' % best_knn.best_params_)"
      ],
      "metadata": {
        "id": "tsUa0djbJE2z"
      },
      "execution_count": null,
      "outputs": []
    },
    {
      "cell_type": "markdown",
      "source": [
        "# XGBOost"
      ],
      "metadata": {
        "id": "z2D3oaGeJE2z"
      }
    },
    {
      "cell_type": "code",
      "source": [
        "import xgboost as xgb\n",
        "xgb_model = xgb.XGBRegressor(objective ='reg:squarederror')\n",
        "xgb_model.fit(X_train,y_train)\n",
        "y_pred = xgb_model.predict(X_test)\n",
        "\n",
        "print(\"MAE= \",mean_absolute_error(y_test, y_pred),\"MSE=\",mean_squared_error(y_test,y_pred),\"R2\",r2_score(y_test, y_pred))"
      ],
      "metadata": {
        "id": "3_5v7c8zJE20"
      },
      "execution_count": null,
      "outputs": []
    },
    {
      "cell_type": "code",
      "source": [
        "\n",
        "hyperparameter_grid = {\n",
        "    'n_estimators': [100, 500, 900, 1100, 1500],\n",
        "    'max_depth': [2, 3, 5, 10, 15],\n",
        "    'learning_rate': [0.05, 0.1, 0.15, 0.20],\n",
        "    'min_child_weight': [1, 2, 3, 4]\n",
        "    }\n",
        "\n",
        "cv = RepeatedKFold(n_splits=10, n_repeats=3, random_state=1)\n",
        "\n",
        "random_cv = RandomizedSearchCV(estimator=xgb_model,\n",
        "            param_distributions=hyperparameter_grid,\n",
        "            cv=cv, n_iter=50,\n",
        "            scoring = 'neg_mean_absolute_error',n_jobs = 4,\n",
        "            verbose = 5, \n",
        "            return_train_score = True,\n",
        "            random_state=42)\n",
        "random_cv.fit(X_train,y_train)\n",
        "y_pred_xgb = random_cv.predict(X_test)"
      ],
      "metadata": {
        "id": "JbnsueFAJE20"
      },
      "execution_count": null,
      "outputs": []
    },
    {
      "cell_type": "code",
      "source": [
        "r_sq = r2_score(y_test, y_pred_xgb)\n",
        "adj_r2_xgb = 1-((1-r_sq)*(df.shape[0])/(df.shape[0]-df.shape[1]-1))\n",
        "print(\"MAE= \",mean_absolute_error(y_test, y_pred_xgb),\"MSE=\",mean_squared_error(y_test,y_pred_xgb),\"R2\",r2_score(y_test, y_pred_xgb),\" Adj r2\",adj_r2_xgb)\n",
        "print('MAE: %.3f' % random_cv.best_score_)\n",
        "print('Config: %s' % random_cv.best_params_)"
      ],
      "metadata": {
        "id": "RTFDnzvkJE21"
      },
      "execution_count": null,
      "outputs": []
    },
    {
      "cell_type": "markdown",
      "source": [
        "# Table of result for Density"
      ],
      "metadata": {
        "id": "BfBQr6igJE21"
      }
    },
    {
      "cell_type": "code",
      "source": [
        "\n",
        "# Specify the Column Names while initializing the Table\n",
        "density = PrettyTable([\"Model\", \"MAE\", \"MSE\", \"R2\",\"Adj R2\"])\n",
        "\n",
        "density.add_row([\"Linear Regression\",mean_absolute_error(y_test, y_pred_lr),mean_squared_error(y_test,y_pred_lr),r2_score(y_test, y_pred_lr),adj_r2_lr])\n",
        "density.add_row([\"Gaussian Progression Regressor\",mean_absolute_error(y_test, y_pred_gp),mean_squared_error(y_test,y_pred_gp),r2_score(y_test, y_pred_gp),adj_r2_gp])\n",
        "density.add_row([\"Random Forest\",mean_absolute_error(y_test, y_pred_rf),mean_squared_error(y_test,y_pred_rf),r2_score(y_test, y_pred_rf),adj_r2_rf])\n",
        "density.add_row([\"Support Vector Regressor\",mean_absolute_error(y_test, y_pred_svr),mean_squared_error(y_test,y_pred_svr),r2_score(y_test, y_pred_svr),adj_r2_svr])\n",
        "density.add_row([\"Ridge Regression\",mean_absolute_error(y_test, y_pred_ri),mean_squared_error(y_test,y_pred_ri),r2_score(y_test, y_pred_ri),adj_r2_ri])\n",
        "density.add_row([\"Lasso Regression\",mean_absolute_error(y_test, y_pred_ls),mean_squared_error(y_test,y_pred_ls),r2_score(y_test, y_pred_ls),adj_r2_ls])\n",
        "density.add_row([\"K nearest Neighbours\",mean_absolute_error(y_test, y_pred_knn),mean_squared_error(y_test,y_pred_knn),r2_score(y_test, y_pred_knn),adj_r2_knn])\n",
        "density.add_row([\"XG boost\",mean_absolute_error(y_test, y_pred_xgb),mean_squared_error(y_test,y_pred_xgb),r2_score(y_test, y_pred_xgb),adj_r2_xgb])\n"
      ],
      "metadata": {
        "id": "-mIQF2j5JE22"
      },
      "execution_count": null,
      "outputs": []
    },
    {
      "cell_type": "code",
      "source": [
        "print(density)"
      ],
      "metadata": {
        "id": "59KhNFbKJE22"
      },
      "execution_count": null,
      "outputs": []
    },
    {
      "cell_type": "markdown",
      "source": [
        "# Heat Capacity Cp"
      ],
      "metadata": {
        "id": "G3yh_6EYMREa"
      }
    },
    {
      "cell_type": "code",
      "source": [
        "df = pd.read_csv(\"/content/drive/MyDrive/Colab Notebooks/cp_mix_BN.csv\")"
      ],
      "metadata": {
        "id": "qzdb6T_bM1n_"
      },
      "execution_count": null,
      "outputs": []
    },
    {
      "cell_type": "code",
      "source": [
        "df.sample(5)"
      ],
      "metadata": {
        "id": "xssyWY46M1oC"
      },
      "execution_count": null,
      "outputs": []
    },
    {
      "cell_type": "code",
      "source": [
        "df.shape"
      ],
      "metadata": {
        "id": "uPKCcJ8KM1oD"
      },
      "execution_count": null,
      "outputs": []
    },
    {
      "cell_type": "code",
      "source": [
        "len(df.columns)"
      ],
      "metadata": {
        "id": "xDLT2DUOM1oF"
      },
      "execution_count": null,
      "outputs": []
    },
    {
      "cell_type": "code",
      "source": [
        "df = pd.get_dummies(df,dummy_na=False,drop_first=True)"
      ],
      "metadata": {
        "id": "WSjSYMeZM1oG"
      },
      "execution_count": null,
      "outputs": []
    },
    {
      "cell_type": "code",
      "source": [
        "df.sample(5)"
      ],
      "metadata": {
        "id": "CLbgjllgM1oH"
      },
      "execution_count": null,
      "outputs": []
    },
    {
      "cell_type": "code",
      "source": [
        "df.shape"
      ],
      "metadata": {
        "id": "bGEJqirwM1oI"
      },
      "execution_count": null,
      "outputs": []
    },
    {
      "cell_type": "code",
      "source": [
        "df.describe(include=\"all\")"
      ],
      "metadata": {
        "id": "7YBLNnvgM1oJ"
      },
      "execution_count": null,
      "outputs": []
    },
    {
      "cell_type": "code",
      "source": [
        "corr=df.corr()\n",
        "sns.heatmap(corr,annot=True)\n",
        "\n",
        "sns.set(rc={'figure.figsize':(10,10)})"
      ],
      "metadata": {
        "id": "_EzGLBlOM1oL"
      },
      "execution_count": null,
      "outputs": []
    },
    {
      "cell_type": "code",
      "source": [
        "X = df.drop([\"cp_mix\",\"massfrac\"],axis=1)\n",
        "X"
      ],
      "metadata": {
        "id": "TnGVf2-3M1oM"
      },
      "execution_count": null,
      "outputs": []
    },
    {
      "cell_type": "code",
      "source": [
        "y = df[\"cp_mix\"]\n",
        "y"
      ],
      "metadata": {
        "id": "eI7woDjaM1oO"
      },
      "execution_count": null,
      "outputs": []
    },
    {
      "cell_type": "markdown",
      "source": [
        "# OLS model for testing"
      ],
      "metadata": {
        "id": "eRwl371x70pO"
      }
    },
    {
      "cell_type": "code",
      "source": [
        "X = sm.add_constant(X)\n",
        "result = sm.OLS(y, X).fit()\n",
        "print(result.summary())"
      ],
      "metadata": {
        "id": "fj4Rm5JZ70wK"
      },
      "execution_count": null,
      "outputs": []
    },
    {
      "cell_type": "code",
      "source": [
        "X_train, X_test, y_train, y_test = train_test_split(X, y, test_size=0.15, random_state=9)\n",
        "print(X_train.shape,X_test.shape,y_train.shape,y_test.shape)"
      ],
      "metadata": {
        "id": "MZ0GAECLM1oO"
      },
      "execution_count": null,
      "outputs": []
    },
    {
      "cell_type": "code",
      "source": [
        "lr = LinearRegression()\n",
        "lr.fit(X_train,y_train)\n",
        "\n",
        "y_pred = lr.predict(X_test)\n",
        "print(\"MAE= \",mean_absolute_error(y_test, y_pred),\"MSE=\",mean_squared_error(y_test,y_pred),\"R2\",r2_score(y_test, y_pred))"
      ],
      "metadata": {
        "id": "fS_RnOHXM1oQ"
      },
      "execution_count": null,
      "outputs": []
    },
    {
      "cell_type": "code",
      "source": [
        "# learning curve\n",
        "pipeline = make_pipeline(StandardScaler(with_mean=False),LinearRegression(fit_intercept=False,n_jobs=1))\n",
        "\n",
        "train_sizes, train_scores, test_scores = learning_curve(estimator=pipeline, X=X_train, y=y_train,\n",
        "                                                        cv=10, train_sizes=np.linspace(0.1, 1.0, 10),\n",
        "                                                        n_jobs=1)\n",
        "\n",
        "train_mean = np.mean(train_scores, axis=1)\n",
        "train_std = np.std(train_scores, axis=1)\n",
        "test_mean = np.mean(test_scores, axis=1)\n",
        "test_std = np.std(test_scores, axis=1)\n",
        "\n",
        "plt.figure(figsize=(9,7))\n",
        "plt.plot(train_sizes, train_mean, color='red', marker='o', markersize=5, label='Training Accuracy')\n",
        "plt.plot(train_sizes, test_mean, color='green', marker='+', markersize=5, linestyle='--', label='Test Accuracy')\n",
        "# plt.figure(figsize=(1,1))\n",
        "\n",
        "plt.title('Learning Curve')\n",
        "plt.xlabel('Training Data Size')\n",
        "plt.ylabel('Model accuracy')\n",
        "plt.grid()\n",
        "plt.legend(loc='lower right')\n",
        "plt.show()"
      ],
      "metadata": {
        "id": "RupkgHu5M1oR"
      },
      "execution_count": null,
      "outputs": []
    },
    {
      "cell_type": "code",
      "source": [
        "parameters = {\"fit_intercept\": [True, False],\n",
        "              \"n_jobs\":[1,2,3,4,5,6] \n",
        "             }\n",
        "             \n",
        "cv = RepeatedKFold(n_splits=10, n_repeats=3, random_state=1)\n",
        "grid = GridSearchCV(estimator=lr, param_grid = parameters, cv = cv, n_jobs=-1)\n",
        "grid.fit(X_train, y_train)\n",
        "y_pred_lr = grid.predict(X_test)"
      ],
      "metadata": {
        "id": "A9sicJNMM1oS"
      },
      "execution_count": null,
      "outputs": []
    },
    {
      "cell_type": "code",
      "source": [
        "r_sq = r2_score(y_test, y_pred_lr)\n",
        "adj_r2_lr = 1-((1-r_sq)*(df.shape[0])/(df.shape[0]-df.shape[1]-1))\n",
        "print(\"MAE= \",mean_absolute_error(y_test, y_pred_lr),\"MSE=\",mean_squared_error(y_test,y_pred_lr),\"R2\",r2_score(y_test, y_pred_lr),\"Adj R2\",adj_r2_lr)\n",
        "print('MAE: %.3f' % grid.best_score_)\n",
        "print('Config: %s' % grid.best_params_)"
      ],
      "metadata": {
        "id": "ZwZWGndtM1oT"
      },
      "execution_count": null,
      "outputs": []
    },
    {
      "cell_type": "markdown",
      "source": [
        "# Gaussian Progress Regression"
      ],
      "metadata": {
        "id": "bFrExztHM1oU"
      }
    },
    {
      "cell_type": "code",
      "source": [
        "kernel = gp.kernels.ConstantKernel(1.0, (1e-1, 1e3)) * gp.kernels.RBF(10.0, (1e-3, 1e3))\n",
        "model = gp.GaussianProcessRegressor(kernel=kernel, n_restarts_optimizer=100, alpha=0.1, normalize_y=True)\n",
        "model.fit(X_train, y_train)\n",
        "\n",
        "y_pred, std = model.predict(X_test, return_std=True)\n",
        "print(\"MAE= \",mean_absolute_error(y_test, y_pred),\"MSE=\",mean_squared_error(y_test,y_pred),\"R2\",r2_score(y_test, y_pred))"
      ],
      "metadata": {
        "id": "IXLomEbGM1oV"
      },
      "execution_count": null,
      "outputs": []
    },
    {
      "cell_type": "code",
      "source": [
        "param_grid = [{\n",
        "    \"alpha\":  [1e-2, 1e-3],\n",
        "    \"kernel\": [RBF(l) for l in np.logspace(-1, 1, 3)]\n",
        "}, {\n",
        "    \"alpha\":  [1e-2, 1e-3],\n",
        "    \"kernel\": [DotProduct(sigma_0) for sigma_0 in np.logspace(-1, 1, 3)]\n",
        "}]\n",
        "\n",
        "# scores = ['explained_variance', 'r2']\n",
        "\n",
        "\n",
        "# for score in scores:\n",
        "# print(\"# Tuning hyper-parameters for %s\" % score)\n",
        "# print()\n",
        "    \n",
        "    # sc = StandardScaler().fit(X_train)\n",
        "    # X_train_sc = sc.fit_transform(X_train)\n",
        "    # X_test_sc = sc.fit_transform(X_test)\n",
        "\n",
        "clf = GridSearchCV(estimator=gp.GaussianProcessRegressor(), param_grid=param_grid, cv=cv,scoring='r2')\n",
        "clf.fit(X_train, y_train)\n",
        "y_pred_gp = clf.predict(X_test)"
      ],
      "metadata": {
        "id": "80ikKtiEM1oW"
      },
      "execution_count": null,
      "outputs": []
    },
    {
      "cell_type": "code",
      "source": [
        "# for score in scores:\n",
        "r_sq = r2_score(y_test, y_pred_gp)\n",
        "adj_r2_gp = 1-((1-r_sq)*(df.shape[0])/(df.shape[0]-df.shape[1]-1))\n",
        "print(\"MAE= \",mean_absolute_error(y_test, y_pred_gp),\"MSE=\",mean_squared_error(y_test,y_pred_gp),\"R2\",r2_score(y_test, y_pred_gp),\"  Adj R2 \",adj_r2_gp)\n",
        "print('MAE: %.3f' % clf.best_score_)\n",
        "print('Config: %s' % clf.best_params_)"
      ],
      "metadata": {
        "id": "A5-uatAaM1oX"
      },
      "execution_count": null,
      "outputs": []
    },
    {
      "cell_type": "code",
      "source": [
        "# learning curve\n",
        "pipeline = make_pipeline(StandardScaler(with_mean=False),gp.GaussianProcessRegressor(alpha=0.01,kernel=RBF(length_scale=1)))\n",
        "\n",
        "train_sizes, train_scores, test_scores = learning_curve(estimator=pipeline, X=X_train, y=y_train,\n",
        "                                                        cv=10, train_sizes=np.linspace(0.1, 1.0, 10),\n",
        "                                                        n_jobs=1)\n",
        "\n",
        "train_mean = np.mean(train_scores, axis=1)\n",
        "train_std = np.std(train_scores, axis=1)\n",
        "test_mean = np.mean(test_scores, axis=1)\n",
        "test_std = np.std(test_scores, axis=1)\n",
        "\n",
        "plt.figure(figsize=(9,7))\n",
        "plt.plot(train_sizes, train_mean, color='blue', marker='o', markersize=5, label='Training Accuracy')\n",
        "plt.plot(train_sizes, test_mean, color='green', marker='+', markersize=5, linestyle='--', label='Test Accuracy')\n",
        "# plt.figure(figsize=(1,1))\n",
        "\n",
        "plt.title('Learning Curve')\n",
        "plt.xlabel('Training Data Size')\n",
        "plt.ylabel('Model accuracy')\n",
        "plt.grid()\n",
        "plt.legend(loc='lower right')\n",
        "plt.show()"
      ],
      "metadata": {
        "id": "0YkYBXbUM1oX"
      },
      "execution_count": null,
      "outputs": []
    },
    {
      "cell_type": "code",
      "source": [
        ""
      ],
      "metadata": {
        "id": "N_z67dT6M1oY"
      },
      "execution_count": null,
      "outputs": []
    },
    {
      "cell_type": "markdown",
      "source": [
        "# Random forest"
      ],
      "metadata": {
        "id": "v2x4qr_iM1oZ"
      }
    },
    {
      "cell_type": "code",
      "source": [
        "y_test = np.array(y_test)\n",
        "from sklearn.ensemble import RandomForestRegressor\n",
        "rf = RandomForestRegressor(n_estimators = 100, random_state = 6666)\n",
        "rf.fit(X_train, y_train)\n",
        "\n",
        "y_pred = rf.predict(X_test)\n",
        "\n",
        "print(\"MAE= \",mean_absolute_error(y_test, y_pred),\"MSE=\",mean_squared_error(y_test,y_pred),\"R2\",r2_score(y_test, y_pred))"
      ],
      "metadata": {
        "id": "tIc3GxQPM1oa"
      },
      "execution_count": null,
      "outputs": []
    },
    {
      "cell_type": "code",
      "source": [
        "cv = RepeatedKFold(n_splits=10, n_repeats=3, random_state=1)\n",
        "\n",
        "# from sklearn.model_selection import RandomizedSearchCV# Number of trees in random forest\n",
        "n_estimators = [int(x) for x in np.linspace(start = 200, stop = 2000, num = 10)]\n",
        "# Number of features to consider at every split\n",
        "max_features = ['auto', 'sqrt']\n",
        "# Maximum number of levels in tree\n",
        "max_depth = [int(x) for x in np.linspace(10, 110, num = 11)]\n",
        "max_depth.append(None)\n",
        "# Minimum number of samples required to split a node\n",
        "min_samples_split = [2, 5, 10]\n",
        "# Minimum number of samples required at each leaf node\n",
        "min_samples_leaf = [1, 2, 4]\n",
        "# Method of selecting samples for training each tree\n",
        "bootstrap = [True, False]\n",
        "cv = RepeatedKFold(n_splits=10, n_repeats=3, random_state=1)\n",
        "\n",
        "random_grid = {'n_estimators': n_estimators,\n",
        "               'max_features': max_features,\n",
        "               'max_depth': max_depth,\n",
        "               'min_samples_split': min_samples_split,\n",
        "               'min_samples_leaf': min_samples_leaf,\n",
        "               'bootstrap': bootstrap}\n",
        "\n",
        "print(random_grid)"
      ],
      "metadata": {
        "id": "ycTpKsgJM1ob"
      },
      "execution_count": null,
      "outputs": []
    },
    {
      "cell_type": "code",
      "source": [
        "rf = RandomForestRegressor()\n",
        "rf_random = RandomizedSearchCV(estimator = rf, param_distributions = random_grid, n_iter = 15, cv = cv, verbose=2, random_state=42, n_jobs = -1)\n",
        "rf_random.fit(X_train,y_train)\n",
        "y_pred_rf = rf_random.predict(X_test)"
      ],
      "metadata": {
        "id": "gmxWRyq6M1ob"
      },
      "execution_count": null,
      "outputs": []
    },
    {
      "cell_type": "code",
      "source": [
        "r_sq = r2_score(y_test, y_pred_rf)\n",
        "adj_r2_rf = 1-((1-r_sq)*(df.shape[0])/(df.shape[0]-df.shape[1]-1))\n",
        "print(\"MAE= \",mean_absolute_error(y_test, y_pred_rf),\"MSE=\",mean_squared_error(y_test,y_pred_rf),\"R2\",r2_score(y_test, y_pred_rf),\"Adj R2\",adj_r2_rf)\n",
        "print(\"Best score\",rf_random.best_score_)\n",
        "print(\" Best params \",rf_random.best_params_)"
      ],
      "metadata": {
        "id": "g5oFXJZdM1oc"
      },
      "execution_count": null,
      "outputs": []
    },
    {
      "cell_type": "markdown",
      "source": [
        "# Support Vector Machines"
      ],
      "metadata": {
        "id": "lBaP2f3iM1oc"
      }
    },
    {
      "cell_type": "code",
      "source": [
        "sc = StandardScaler().fit(X_train)\n",
        "X_train_std = sc.transform(X_train)\n",
        "X_test_std = sc.transform(X_test)\n",
        "\n",
        "svr = SVR(kernel=\"rbf\",C=500)\n",
        "svr.fit(X_train_std,y_train)\n",
        "y_test_pred = svr.predict(X_test_std)\n",
        "\n",
        "print(\"MAE= \",mean_absolute_error(y_test, y_test_pred),\"MSE=\",mean_squared_error(y_test,y_test_pred),\"R2\",r2_score(y_test, y_test_pred))"
      ],
      "metadata": {
        "id": "PoNkNZQwM1oc"
      },
      "execution_count": null,
      "outputs": []
    },
    {
      "cell_type": "code",
      "source": [
        "\n",
        "# from sklearn.externals._packaging.version import SubLocalType\n",
        "parameters = {'kernel': ('linear', 'rbf','poly'), 'C':[1.5, 10],'gamma': [1e-7, 1e-4],'epsilon':[0.1,0.2,0.5,0.3]}\n",
        "\n",
        "clf = GridSearchCV(SVR(), parameters)\n",
        "sc = StandardScaler().fit(X_train)\n",
        "\n",
        "SC = StandardScaler()\n",
        "X_train_sc = sc.fit_transform(X_train)\n",
        "X_test_sc = sc.fit_transform(X_test)\n",
        "\n",
        "clf.fit(X_train,y_train)\n",
        "y_pred_svr = clf.predict(X_test)"
      ],
      "metadata": {
        "id": "y1J186XWM1oe"
      },
      "execution_count": null,
      "outputs": []
    },
    {
      "cell_type": "code",
      "source": [
        "r_sq = r2_score(y_test, y_pred_svr)\n",
        "adj_r2_svr = 1-((1-r_sq)*(df.shape[0])/(df.shape[0]-df.shape[1]-1))\n",
        "print(\"MAE= \",mean_absolute_error(y_test, y_pred_svr),\"MSE=\",mean_squared_error(y_test,y_pred_svr),\"R2\",r2_score(y_test, y_pred_svr),\"Adj R2\",adj_r2_svr)\n",
        "print('MAE: %.3f' % clf.best_score_)\n",
        "print('Config: %s' % clf.best_params_)"
      ],
      "metadata": {
        "id": "nk03IsOuM1oe"
      },
      "execution_count": null,
      "outputs": []
    },
    {
      "cell_type": "markdown",
      "source": [
        "# Ridge Regression"
      ],
      "metadata": {
        "id": "Bz3PJeSyM1oe"
      }
    },
    {
      "cell_type": "code",
      "source": [
        "from sklearn.linear_model import RidgeCV,Ridge,Lasso\n",
        "from sklearn.model_selection import RepeatedKFold\n",
        "from sklearn.model_selection import GridSearchCV\n",
        "\n",
        "# X_train_std = sc.fit_transform(X_train)\n",
        "# X_test_std = sc.fit_transform(X_test)\n",
        "r_alphas = np.logspace(0, 5, 100)\n",
        "\n",
        "\n",
        "ridge_model = RidgeCV(alphas=r_alphas, scoring='r2')\n",
        "\n",
        "ridge_model = ridge_model.fit(X_train, y_train)\n",
        "\n",
        "y_pred = ridge_model.predict(X_test)"
      ],
      "metadata": {
        "id": "HL-N7jMhM1of"
      },
      "execution_count": null,
      "outputs": []
    },
    {
      "cell_type": "code",
      "source": [
        "\n",
        "print(\"MAE= \",mean_absolute_error(y_test, y_pred),\"MSE=\",mean_squared_error(y_test,y_pred),\"R2\",r2_score(y_test, y_pred))"
      ],
      "metadata": {
        "id": "Q9a8LPYPM1og"
      },
      "execution_count": null,
      "outputs": []
    },
    {
      "cell_type": "code",
      "source": [
        "ridge_model = Ridge(alpha=1)\n",
        "\n",
        "ridge_model.fit(X_train,y_train)\n",
        "\n",
        "y_pred = ridge_model.predict(X_test)\n",
        "\n",
        "print(\"MAE= \",mean_absolute_error(y_test, y_pred),\"MSE=\",mean_squared_error(y_test,y_pred),\"R2\",r2_score(y_test, y_pred))"
      ],
      "metadata": {
        "id": "ykWPYxJ-M1og"
      },
      "execution_count": null,
      "outputs": []
    },
    {
      "cell_type": "code",
      "source": [
        "model = Ridge()\n",
        "# define model evaluation method\n",
        "cv = RepeatedKFold(n_splits=6, n_repeats=4, random_state=243)\n",
        "# define grid\n",
        "grid = dict()\n",
        "\n",
        "grid['alpha'] = np.arange(0, 1, 0.01)\n",
        "\n",
        "search = GridSearchCV(model, grid, scoring='neg_mean_absolute_error', cv=cv, n_jobs=-1)\n",
        "\n",
        "search.fit(X_train,y_train)\n",
        "\n",
        "y_pred_ri = search.predict(X_test)"
      ],
      "metadata": {
        "id": "ShS6MucqM1oh"
      },
      "execution_count": null,
      "outputs": []
    },
    {
      "cell_type": "code",
      "source": [
        "r_sq = r2_score(y_test, y_pred_ri)\n",
        "adj_r2_ri = 1-((1-r_sq)*(df.shape[0])/(df.shape[0]-df.shape[1]-1))\n",
        "print(\"MAE= \",mean_absolute_error(y_test, y_pred_ri),\"MSE=\",mean_squared_error(y_test,y_pred_ri),\"R2\",r2_score(y_test, y_pred_ri),\"Adj R2\",adj_r2_ri)\n",
        "print('MAE: %.3f' % search.best_score_)\n",
        "print('Config: %s' % search.best_params_)"
      ],
      "metadata": {
        "id": "YLGnrzV3M1oh"
      },
      "execution_count": null,
      "outputs": []
    },
    {
      "cell_type": "markdown",
      "source": [
        "# Lasso Regression"
      ],
      "metadata": {
        "id": "AlJvcvToM1oi"
      }
    },
    {
      "cell_type": "code",
      "source": [
        "lasso_model = Lasso(alpha=0)\n",
        "# define model evaluation method\n",
        "lasso_model.fit(X_train,y_train)\n",
        "\n",
        "y_pred = lasso_model.predict(X_test)\n",
        "\n",
        "print(\"MAE= \",mean_absolute_error(y_test, y_pred),\"MSE=\",mean_squared_error(y_test,y_pred),\"R2\",r2_score(y_test, y_pred))"
      ],
      "metadata": {
        "id": "e0b2NgHFM1oi"
      },
      "execution_count": null,
      "outputs": []
    },
    {
      "cell_type": "code",
      "source": [
        "model = Lasso()\n",
        "# define model evaluation method\n",
        "cv = RepeatedKFold(n_splits=10, n_repeats=3, random_state=1)\n",
        "# define grid\n",
        "grid = dict()\n",
        "grid['alpha'] = np.arange(0, 1, 0.01)\n",
        "# define search\n",
        "lasso = GridSearchCV(model, grid, scoring='neg_mean_absolute_error', cv=cv, n_jobs=-1)\n",
        "# perform the search\n",
        "lasso.fit(X, y)\n",
        "\n",
        "y_pred_ls = lasso.predict(X_test)"
      ],
      "metadata": {
        "id": "LmlKBnafM1oj"
      },
      "execution_count": null,
      "outputs": []
    },
    {
      "cell_type": "code",
      "source": [
        "r_sq = r2_score(y_test, y_pred_ls)\n",
        "adj_r2_ls = 1-((1-r_sq)*(df.shape[0])/(df.shape[0]-df.shape[1]-1))\n",
        "print(\"MAE= \",mean_absolute_error(y_test, y_pred_ls),\"MSE=\",mean_squared_error(y_test,y_pred_ls),\"R2\",r2_score(y_test, y_pred_ls),\"Adj R2\",adj_r2_ls)\n",
        "print('MAE: %.3f' % lasso.best_score_)\n",
        "print('Config: %s' % lasso.best_params_)"
      ],
      "metadata": {
        "id": "NtouOvfFM1oj"
      },
      "execution_count": null,
      "outputs": []
    },
    {
      "cell_type": "markdown",
      "source": [
        "# KNN model"
      ],
      "metadata": {
        "id": "QbW4hZx_M1ok"
      }
    },
    {
      "cell_type": "code",
      "source": [
        "knn  = KNeighborsRegressor(n_neighbors=3)\n",
        "knn.fit(X_train,y_train)\n",
        "y_pred = knn.predict(X_test)\n",
        "print(\"MAE= \",mean_absolute_error(y_test, y_pred),\"MSE=\",mean_squared_error(y_test,y_pred),\"R2\",r2_score(y_test, y_pred))"
      ],
      "metadata": {
        "id": "b5UZ33W-M1ok"
      },
      "execution_count": null,
      "outputs": []
    },
    {
      "cell_type": "code",
      "source": [
        "cv = RepeatedKFold(n_splits=5,n_repeats=3,random_state=999)\n",
        "params = [{'n_neighbors': [2,3,4,5,6,7,8,9,10,11,12,13,14,15], \n",
        "           'weights': ['uniform','distance'],\n",
        "           'p':[1,2,5]}]\n",
        "\n",
        "best_knn = GridSearchCV(estimator=KNeighborsRegressor(), \n",
        "                      param_grid=params, \n",
        "                      cv=cv,\n",
        "                      verbose=1,  \n",
        "                      scoring='r2', \n",
        "                      return_train_score=True)\n",
        "best_knn.fit(X_train,y_train)\n",
        "y_pred_knn = best_knn.predict(X_test)"
      ],
      "metadata": {
        "id": "yc5AjuNCM1ok"
      },
      "execution_count": null,
      "outputs": []
    },
    {
      "cell_type": "code",
      "source": [
        "r_sq = r2_score(y_test, y_pred_knn)\n",
        "adj_r2_knn = 1-((1-r_sq)*(df.shape[0])/(df.shape[0]-df.shape[1]-1))\n",
        "print(\"MAE= \",mean_absolute_error(y_test, y_pred_knn),\"MSE=\",mean_squared_error(y_test,y_pred_knn),\"R2\",r2_score(y_test, y_pred_knn),adj_r2_knn)\n",
        "print('MAE: %.3f' % best_knn.best_score_)\n",
        "print('Config: %s' % best_knn.best_params_)"
      ],
      "metadata": {
        "id": "ksMQ6iFIM1ol"
      },
      "execution_count": null,
      "outputs": []
    },
    {
      "cell_type": "markdown",
      "source": [
        "# XGBOost"
      ],
      "metadata": {
        "id": "0RT70RKOM1ol"
      }
    },
    {
      "cell_type": "code",
      "source": [
        "import xgboost as xgb\n",
        "xgb_model = xgb.XGBRegressor(objective ='reg:squarederror')\n",
        "xgb_model.fit(X_train,y_train)\n",
        "y_pred = xgb_model.predict(X_test)\n",
        "\n",
        "print(\"MAE= \",mean_absolute_error(y_test, y_pred),\"MSE=\",mean_squared_error(y_test,y_pred),\"R2\",r2_score(y_test, y_pred))"
      ],
      "metadata": {
        "id": "hTu6r5T8M1om"
      },
      "execution_count": null,
      "outputs": []
    },
    {
      "cell_type": "code",
      "source": [
        "\n",
        "hyperparameter_grid = {\n",
        "    'n_estimators': [100, 500, 900, 1100, 1500],\n",
        "    'max_depth': [2, 3, 5, 10, 15],\n",
        "    'learning_rate': [0.05, 0.1, 0.15, 0.20],\n",
        "    'min_child_weight': [1, 2, 3, 4]\n",
        "    }\n",
        "\n",
        "cv = RepeatedKFold(n_splits=10, n_repeats=3, random_state=1)\n",
        "\n",
        "random_cv = RandomizedSearchCV(estimator=xgb_model,\n",
        "            param_distributions=hyperparameter_grid,\n",
        "            cv=cv, n_iter=50,\n",
        "            scoring = 'neg_mean_absolute_error',n_jobs = 4,\n",
        "            verbose = 5, \n",
        "            return_train_score = True,\n",
        "            random_state=42)\n",
        "random_cv.fit(X_train,y_train)\n",
        "y_pred_xgb = random_cv.predict(X_test)"
      ],
      "metadata": {
        "id": "lTXZJDmUM1om"
      },
      "execution_count": null,
      "outputs": []
    },
    {
      "cell_type": "code",
      "source": [
        "r_sq = r2_score(y_test, y_pred_xgb)\n",
        "adj_r2_xgb = 1-((1-r_sq)*(df.shape[0])/(df.shape[0]-df.shape[1]-1))\n",
        "print(\"MAE= \",mean_absolute_error(y_test, y_pred_xgb),\"MSE=\",mean_squared_error(y_test,y_pred_xgb),\"R2\",r2_score(y_test, y_pred_xgb),adj_r2_xgb)\n",
        "print('MAE: %.3f' % random_cv.best_score_)\n",
        "print('Config: %s' % random_cv.best_params_)"
      ],
      "metadata": {
        "id": "Zdg-mgElM1on"
      },
      "execution_count": null,
      "outputs": []
    },
    {
      "cell_type": "markdown",
      "source": [
        "# Table of result for Heat Capacity"
      ],
      "metadata": {
        "id": "pN9hpYX6M1oo"
      }
    },
    {
      "cell_type": "code",
      "source": [
        "\n",
        "# Specify the Column Names while initializing the Table\n",
        "cp = PrettyTable([\"Model\", \"MAE\", \"MSE\", \"R2\",\"Adj R2\"])\n",
        "\n",
        "cp.add_row([\"Linear Regression\",mean_absolute_error(y_test, y_pred_lr),mean_squared_error(y_test,y_pred_lr),r2_score(y_test, y_pred_lr),adj_r2_lr])\n",
        "cp.add_row([\"Gaussian Progression Regressor\",mean_absolute_error(y_test, y_pred_gp),mean_squared_error(y_test,y_pred_gp),r2_score(y_test, y_pred_gp),adj_r2_gp])\n",
        "cp.add_row([\"Random Forest\",mean_absolute_error(y_test, y_pred_rf),mean_squared_error(y_test,y_pred_rf),r2_score(y_test, y_pred_rf),adj_r2_rf])\n",
        "cp.add_row([\"Support Vector Regressor\",mean_absolute_error(y_test, y_pred_svr),mean_squared_error(y_test,y_pred_svr),r2_score(y_test, y_pred_svr),adj_r2_svr])\n",
        "cp.add_row([\"Ridge Regression\",mean_absolute_error(y_test, y_pred_ri),mean_squared_error(y_test,y_pred_ri),r2_score(y_test, y_pred_ri),adj_r2_ri])\n",
        "cp.add_row([\"Lasso Regression\",mean_absolute_error(y_test, y_pred_ls),mean_squared_error(y_test,y_pred_ls),r2_score(y_test, y_pred_ls),adj_r2_ls])\n",
        "cp.add_row([\"K nearest Neighbours\",mean_absolute_error(y_test, y_pred_knn),mean_squared_error(y_test,y_pred_knn),r2_score(y_test, y_pred_knn),adj_r2_knn])\n",
        "cp.add_row([\"XG boost\",mean_absolute_error(y_test, y_pred_xgb),mean_squared_error(y_test,y_pred_xgb),r2_score(y_test, y_pred_xgb),adj_r2_xgb])\n"
      ],
      "metadata": {
        "id": "FhapqOqNM1op"
      },
      "execution_count": null,
      "outputs": []
    },
    {
      "cell_type": "code",
      "source": [
        "print(cp)\n"
      ],
      "metadata": {
        "id": "4F9OA_GcM1oq"
      },
      "execution_count": null,
      "outputs": []
    },
    {
      "cell_type": "markdown",
      "source": [
        "# Conductivity"
      ],
      "metadata": {
        "id": "pF-NP1-ANuap"
      }
    },
    {
      "cell_type": "code",
      "source": [
        "df = pd.read_csv(\"/content/drive/MyDrive/Colab Notebooks/conductivity_prediction.csv\")"
      ],
      "metadata": {
        "id": "GxqjaHqJNxY5"
      },
      "execution_count": null,
      "outputs": []
    },
    {
      "cell_type": "code",
      "source": [
        "df.sample(5)"
      ],
      "metadata": {
        "id": "n2akNifPNxY8"
      },
      "execution_count": null,
      "outputs": []
    },
    {
      "cell_type": "code",
      "source": [
        "df.shape"
      ],
      "metadata": {
        "id": "TFAN9hUvNxY8"
      },
      "execution_count": null,
      "outputs": []
    },
    {
      "cell_type": "code",
      "source": [
        "len(df.columns)"
      ],
      "metadata": {
        "id": "FFAxCH9PNxY-"
      },
      "execution_count": null,
      "outputs": []
    },
    {
      "cell_type": "code",
      "source": [
        "df[\"base_fluid\"]=1000*df[\"base_fluid\"]\n",
        "df[\"mixture\"] = 1000*df[\"mixture\"]"
      ],
      "metadata": {
        "id": "Wa_jgOx-U2bI"
      },
      "execution_count": null,
      "outputs": []
    },
    {
      "cell_type": "code",
      "source": [
        "df.sample(5)"
      ],
      "metadata": {
        "id": "na6IsvonVLDn"
      },
      "execution_count": null,
      "outputs": []
    },
    {
      "cell_type": "code",
      "source": [
        "df = pd.get_dummies(df,dummy_na=False,drop_first=True)"
      ],
      "metadata": {
        "id": "LjLIsuGENxZA"
      },
      "execution_count": null,
      "outputs": []
    },
    {
      "cell_type": "code",
      "source": [
        "df.sample(5)"
      ],
      "metadata": {
        "id": "1D9hadetNxZB"
      },
      "execution_count": null,
      "outputs": []
    },
    {
      "cell_type": "code",
      "source": [
        "df.shape"
      ],
      "metadata": {
        "id": "dOUBFP2wNxZD"
      },
      "execution_count": null,
      "outputs": []
    },
    {
      "cell_type": "code",
      "source": [
        "df.describe(include=\"all\")"
      ],
      "metadata": {
        "id": "dmY5_YgkNxZE"
      },
      "execution_count": null,
      "outputs": []
    },
    {
      "cell_type": "code",
      "source": [
        "corr=df.corr()\n",
        "sns.heatmap(corr,annot=True)\n",
        "\n",
        "sns.set(rc={'figure.figsize':(10,10)})"
      ],
      "metadata": {
        "id": "gRYu8OBqNxZF"
      },
      "execution_count": null,
      "outputs": []
    },
    {
      "cell_type": "code",
      "source": [
        "X = df.drop([\"mixture\",\"mass_frac\"],axis=1)\n",
        "X"
      ],
      "metadata": {
        "id": "rQp_nd47NxZG"
      },
      "execution_count": null,
      "outputs": []
    },
    {
      "cell_type": "code",
      "source": [
        "y = df[\"mixture\"]\n",
        "y"
      ],
      "metadata": {
        "id": "oaHxkLBuNxZG"
      },
      "execution_count": null,
      "outputs": []
    },
    {
      "cell_type": "markdown",
      "source": [
        "# OLS Model for testing"
      ],
      "metadata": {
        "id": "buGy-NNVAQjk"
      }
    },
    {
      "cell_type": "code",
      "source": [
        "X = sm.add_constant(X)\n",
        "result = sm.OLS(y, X).fit()\n",
        "print(result.summary())"
      ],
      "metadata": {
        "id": "HWG0zCR1AQol"
      },
      "execution_count": null,
      "outputs": []
    },
    {
      "cell_type": "code",
      "source": [
        "X_train, X_test, y_train, y_test = train_test_split(X, y, test_size=0.15, random_state=9)\n",
        "print(X_train.shape,X_test.shape,y_train.shape,y_test.shape)"
      ],
      "metadata": {
        "id": "23f2eDcyNxZI"
      },
      "execution_count": null,
      "outputs": []
    },
    {
      "cell_type": "code",
      "source": [
        "lr = LinearRegression()\n",
        "lr.fit(X_train,y_train)\n",
        "\n",
        "y_pred = lr.predict(X_test)\n",
        "print(\"MAE= \",mean_absolute_error(y_test, y_pred),\"MSE=\",mean_squared_error(y_test,y_pred),\"R2\",r2_score(y_test, y_pred))"
      ],
      "metadata": {
        "id": "0vofKLBeNxZI"
      },
      "execution_count": null,
      "outputs": []
    },
    {
      "cell_type": "code",
      "source": [
        "# learning curve\n",
        "pipeline = make_pipeline(StandardScaler(with_mean=False),LinearRegression(fit_intercept=False,n_jobs=1))\n",
        "\n",
        "train_sizes, train_scores, test_scores = learning_curve(estimator=pipeline, X=X_train, y=y_train,\n",
        "                                                        cv=10, train_sizes=np.linspace(0.1, 1.0, 10),\n",
        "                                                        n_jobs=1)\n",
        "\n",
        "train_mean = np.mean(train_scores, axis=1)\n",
        "train_std = np.std(train_scores, axis=1)\n",
        "test_mean = np.mean(test_scores, axis=1)\n",
        "test_std = np.std(test_scores, axis=1)\n",
        "\n",
        "plt.figure(figsize=(9,7))\n",
        "plt.plot(train_sizes, train_mean, color='red', marker='o', markersize=5, label='Training Accuracy')\n",
        "plt.plot(train_sizes, test_mean, color='green', marker='+', markersize=5, linestyle='--', label='Test Accuracy')\n",
        "# plt.figure(figsize=(1,1))\n",
        "\n",
        "plt.title('Learning Curve')\n",
        "plt.xlabel('Training Data Size')\n",
        "plt.ylabel('Model accuracy')\n",
        "plt.grid()\n",
        "plt.legend(loc='lower right')\n",
        "plt.show()"
      ],
      "metadata": {
        "id": "y8tG55K2NxZJ"
      },
      "execution_count": null,
      "outputs": []
    },
    {
      "cell_type": "code",
      "source": [
        "parameters = {\"fit_intercept\": [True, False],\n",
        "              \"n_jobs\":[1,2,3,4,5,6] \n",
        "             }\n",
        "             \n",
        "cv = RepeatedKFold(n_splits=10, n_repeats=3, random_state=1)\n",
        "grid = GridSearchCV(estimator=lr, param_grid = parameters, cv = cv, n_jobs=-1)\n",
        "grid.fit(X_train, y_train)\n",
        "y_pred_lr = grid.predict(X_test)"
      ],
      "metadata": {
        "id": "eB9gwA3CNxZK"
      },
      "execution_count": null,
      "outputs": []
    },
    {
      "cell_type": "code",
      "source": [
        "r_sq = r2_score(y_test, y_pred_lr)\n",
        "adj_r2_lr = 1-((1-r_sq)*(df.shape[0])/(df.shape[0]-df.shape[1]-1))\n",
        "print(\"MAE= \",mean_absolute_error(y_test, y_pred_lr),\"MSE=\",mean_squared_error(y_test,y_pred_lr),\"R2\",r2_score(y_test, y_pred_lr),\"Adj R2\",adj_r2_lr)\n",
        "print('MAE: %.3f' % grid.best_score_)\n",
        "print('Config: %s' % grid.best_params_)"
      ],
      "metadata": {
        "id": "XR4ph-RTNxZK"
      },
      "execution_count": null,
      "outputs": []
    },
    {
      "cell_type": "markdown",
      "source": [
        "# Gaussian Progress Regression"
      ],
      "metadata": {
        "id": "e5aObZaXNxZM"
      }
    },
    {
      "cell_type": "code",
      "source": [
        "kernel = gp.kernels.ConstantKernel(1.0, (1e-1, 1e3)) * gp.kernels.RBF(10.0, (1e-3, 1e3))\n",
        "model = gp.GaussianProcessRegressor(kernel=kernel, n_restarts_optimizer=100, alpha=0.1, normalize_y=True)\n",
        "model.fit(X_train, y_train)\n",
        "\n",
        "y_pred, std = model.predict(X_test, return_std=True)\n",
        "print(\"MAE= \",mean_absolute_error(y_test, y_pred),\"MSE=\",mean_squared_error(y_test,y_pred),\"R2\",r2_score(y_test, y_pred))"
      ],
      "metadata": {
        "id": "403cDjl3NxZM"
      },
      "execution_count": null,
      "outputs": []
    },
    {
      "cell_type": "code",
      "source": [
        "param_grid = [{\n",
        "    \"alpha\":  [1e-2, 1e-3],\n",
        "    \"kernel\": [RBF(l) for l in np.logspace(-1, 1, 3)]\n",
        "}, {\n",
        "    \"alpha\":  [1e-2, 1e-3],\n",
        "    \"kernel\": [DotProduct(sigma_0) for sigma_0 in np.logspace(-1, 1, 3)]\n",
        "}]\n",
        "\n",
        "# scores = ['explained_variance', 'r2']\n",
        "\n",
        "\n",
        "# for score in scores:\n",
        "# print(\"# Tuning hyper-parameters for %s\" % score)\n",
        "# print()\n",
        "    \n",
        "    # sc = StandardScaler().fit(X_train)\n",
        "    # X_train_sc = sc.fit_transform(X_train)\n",
        "    # X_test_sc = sc.fit_transform(X_test)\n",
        "\n",
        "clf = GridSearchCV(estimator=gp.GaussianProcessRegressor(), param_grid=param_grid, cv=cv,scoring='r2')\n",
        "clf.fit(X_train, y_train)\n",
        "y_pred_gp = clf.predict(X_test)"
      ],
      "metadata": {
        "id": "iza8xjDZNxZN"
      },
      "execution_count": null,
      "outputs": []
    },
    {
      "cell_type": "code",
      "source": [
        "# for score in scores:\n",
        "r_sq = r2_score(y_test, y_pred_gp)\n",
        "adj_r2_gp = 1-((1-r_sq)*(df.shape[0])/(df.shape[0]-df.shape[1]-1))\n",
        "print(\"MAE= \",mean_absolute_error(y_test, y_pred_gp),\"MSE=\",mean_squared_error(y_test,y_pred_gp),\"R2\",r2_score(y_test, y_pred_gp),adj_r2_gp)\n",
        "print('MAE: %.3f' % clf.best_score_)\n",
        "print('Config: %s' % clf.best_params_)"
      ],
      "metadata": {
        "id": "WiILEXGCNxZN"
      },
      "execution_count": null,
      "outputs": []
    },
    {
      "cell_type": "code",
      "source": [
        "# learning curve\n",
        "pipeline = make_pipeline(StandardScaler(with_mean=False),gp.GaussianProcessRegressor(alpha=0.01,kernel=RBF(length_scale=1)))\n",
        "\n",
        "train_sizes, train_scores, test_scores = learning_curve(estimator=pipeline, X=X_train, y=y_train,\n",
        "                                                        cv=10, train_sizes=np.linspace(0.1, 1.0, 10),\n",
        "                                                        n_jobs=1)\n",
        "\n",
        "train_mean = np.mean(train_scores, axis=1)\n",
        "train_std = np.std(train_scores, axis=1)\n",
        "test_mean = np.mean(test_scores, axis=1)\n",
        "test_std = np.std(test_scores, axis=1)\n",
        "\n",
        "plt.figure(figsize=(9,7))\n",
        "plt.plot(train_sizes, train_mean, color='blue', marker='o', markersize=5, label='Training Accuracy')\n",
        "plt.plot(train_sizes, test_mean, color='green', marker='+', markersize=5, linestyle='--', label='Test Accuracy')\n",
        "# plt.figure(figsize=(1,1))\n",
        "\n",
        "plt.title('Learning Curve')\n",
        "plt.xlabel('Training Data Size')\n",
        "plt.ylabel('Model accuracy')\n",
        "plt.grid()\n",
        "plt.legend(loc='lower right')\n",
        "plt.show()"
      ],
      "metadata": {
        "id": "S-aohh14NxZO"
      },
      "execution_count": null,
      "outputs": []
    },
    {
      "cell_type": "code",
      "source": [
        ""
      ],
      "metadata": {
        "id": "v_1apyJiNxZP"
      },
      "execution_count": null,
      "outputs": []
    },
    {
      "cell_type": "markdown",
      "source": [
        "# Random forest"
      ],
      "metadata": {
        "id": "YvJ4jGeDNxZP"
      }
    },
    {
      "cell_type": "code",
      "source": [
        "y_test = np.array(y_test)\n",
        "from sklearn.ensemble import RandomForestRegressor\n",
        "rf = RandomForestRegressor(n_estimators = 100, random_state = 6666)\n",
        "rf.fit(X_train, y_train)\n",
        "\n",
        "y_pred_rf = rf.predict(X_test)\n",
        "\n",
        "r_sq = r2_score(y_test, y_pred_rf)\n",
        "adj_r2_rf = 1-((1-r_sq)*(df.shape[0])/(df.shape[0]-df.shape[1]-1))\n",
        "print(\"MAE= \",mean_absolute_error(y_test, y_pred),\"MSE=\",mean_squared_error(y_test,y_pred),\"R2\",r2_score(y_test, y_pred))"
      ],
      "metadata": {
        "id": "4NqUkT7DNxZP"
      },
      "execution_count": null,
      "outputs": []
    },
    {
      "cell_type": "code",
      "source": [
        "cv = RepeatedKFold(n_splits=10, n_repeats=3, random_state=1)\n",
        "\n",
        "# from sklearn.model_selection import RandomizedSearchCV# Number of trees in random forest\n",
        "n_estimators = [int(x) for x in np.linspace(start = 200, stop = 2000, num = 10)]\n",
        "# Number of features to consider at every split\n",
        "max_features = ['auto', 'sqrt']\n",
        "# Maximum number of levels in tree\n",
        "max_depth = [int(x) for x in np.linspace(10, 110, num = 11)]\n",
        "max_depth.append(None)\n",
        "# Minimum number of samples required to split a node\n",
        "min_samples_split = [2, 5, 10]\n",
        "# Minimum number of samples required at each leaf node\n",
        "min_samples_leaf = [1, 2, 4]\n",
        "# Method of selecting samples for training each tree\n",
        "bootstrap = [True, False]\n",
        "cv = RepeatedKFold(n_splits=10, n_repeats=3, random_state=1)\n",
        "\n",
        "random_grid = {'n_estimators': n_estimators,\n",
        "               'max_features': max_features,\n",
        "               'max_depth': max_depth,\n",
        "               'min_samples_split': min_samples_split,\n",
        "               'min_samples_leaf': min_samples_leaf,\n",
        "               'bootstrap': bootstrap}\n",
        "\n",
        "print(random_grid)"
      ],
      "metadata": {
        "id": "yAcTMIv7NxZQ"
      },
      "execution_count": null,
      "outputs": []
    },
    {
      "cell_type": "code",
      "source": [
        "rf = RandomForestRegressor()\n",
        "rf_random = RandomizedSearchCV(estimator = rf, param_distributions = random_grid, n_iter = 15, cv = cv, verbose=5, random_state=42, n_jobs = -1)\n",
        "rf_random.fit(X_train,y_train)\n",
        "y_pred_rf = rf_random.predict(X_test)"
      ],
      "metadata": {
        "id": "5OWHYB0INxZQ"
      },
      "execution_count": null,
      "outputs": []
    },
    {
      "cell_type": "code",
      "source": [
        "r_sq = r2_score(y_test, y_pred_rf)\n",
        "adj_r2_rf = 1-((1-r_sq)*(df.shape[0])/(df.shape[0]-df.shape[1]-1))\n",
        "print(\"MAE= \",mean_absolute_error(y_test, y_pred_rf),\"MSE=\",mean_squared_error(y_test,y_pred_rf),\"R2\",r2_score(y_test, y_pred_rf),\"Adj R2\",adj_r2_rf)\n",
        "print(\"best params\",rf_random.best_params_)"
      ],
      "metadata": {
        "id": "pJKLvuK4NxZR"
      },
      "execution_count": null,
      "outputs": []
    },
    {
      "cell_type": "markdown",
      "source": [
        "# Support Vector Machines"
      ],
      "metadata": {
        "id": "lMaAwPCsNxZS"
      }
    },
    {
      "cell_type": "code",
      "source": [
        "sc = StandardScaler().fit(X_train)\n",
        "X_train_std = sc.transform(X_train)\n",
        "X_test_std = sc.transform(X_test)\n",
        "\n",
        "svr = SVR(kernel=\"rbf\",C=1200,epsilon=0.1011)\n",
        "svr.fit(X_train_std,y_train)\n",
        "y_pred_svr = svr.predict(X_test_std)\n",
        "\n",
        "\n",
        "r_sq = r2_score(y_test, y_pred_svr)\n",
        "adj_r2_svr = 1-((1-r_sq)*(df.shape[0])/(df.shape[0]-df.shape[1]-1))\n",
        "# print(\"MAE= \",mean_absolute_error(y_test, y_test_pred),\"MSE=\",mean_squared_error(y_test,y_test_pred),\"R2\",r2_score(y_test, y_test_pred))"
      ],
      "metadata": {
        "id": "ovSPIou3NxZT"
      },
      "execution_count": null,
      "outputs": []
    },
    {
      "cell_type": "code",
      "source": [
        "\n",
        "# from sklearn.externals._packaging.version import SubLocalType\n",
        "parameters = {'kernel': ('rbf','poly'), 'C':[500,200],'gamma': [1e-9, 1e-4],'epsilon':[0.1,0.2,0.5,0.3]}\n",
        "\n",
        "clf = GridSearchCV(SVR(), parameters)\n",
        "sc = StandardScaler().fit(X_train)\n",
        "\n",
        "SC = StandardScaler()\n",
        "X_train_sc = sc.fit_transform(X_train)\n",
        "X_test_sc = sc.fit_transform(X_test)\n",
        "\n",
        "clf.fit(X_train,y_train)\n",
        "y_pred_svr = clf.predict(X_test)"
      ],
      "metadata": {
        "id": "r0TXTpLYNxZU"
      },
      "execution_count": null,
      "outputs": []
    },
    {
      "cell_type": "code",
      "source": [
        "r_sq = r2_score(y_test, y_pred_svr)\n",
        "adj_r2_svr = 1-((1-r_sq)*(df.shape[0])/(df.shape[0]-df.shape[1]-1))\n",
        "print(\"MAE= \",mean_absolute_error(y_test, y_pred_svr),\"MSE=\",mean_squared_error(y_test,y_pred_svr),\"R2\",r2_score(y_test, y_pred_svr),adj_r2_svr)\n",
        "print('MAE: %.3f' % clf.best_score_)\n",
        "print('Config: %s' % clf.best_params_)"
      ],
      "metadata": {
        "id": "dqbzkphVNxZV"
      },
      "execution_count": null,
      "outputs": []
    },
    {
      "cell_type": "markdown",
      "source": [
        "# Ridge Regression"
      ],
      "metadata": {
        "id": "K7NJOLfxNxZV"
      }
    },
    {
      "cell_type": "code",
      "source": [
        "from sklearn.linear_model import RidgeCV,Ridge,Lasso\n",
        "from sklearn.model_selection import RepeatedKFold\n",
        "from sklearn.model_selection import GridSearchCV\n",
        "\n",
        "# X_train_std = sc.fit_transform(X_train)\n",
        "# X_test_std = sc.fit_transform(X_test)\n",
        "r_alphas = np.logspace(0, 5, 100)\n",
        "\n",
        "\n",
        "ridge_model = RidgeCV(alphas=r_alphas, scoring='r2')\n",
        "\n",
        "ridge_model = ridge_model.fit(X_train, y_train)\n",
        "\n",
        "y_pred = ridge_model.predict(X_test)"
      ],
      "metadata": {
        "id": "j4Ue4zHUNxZW"
      },
      "execution_count": null,
      "outputs": []
    },
    {
      "cell_type": "code",
      "source": [
        "\n",
        "print(\"MAE= \",mean_absolute_error(y_test, y_pred),\"MSE=\",mean_squared_error(y_test,y_pred),\"R2\",r2_score(y_test, y_pred))"
      ],
      "metadata": {
        "id": "Y0wxBzPONxZX"
      },
      "execution_count": null,
      "outputs": []
    },
    {
      "cell_type": "code",
      "source": [
        "ridge_model = Ridge(alpha=1)\n",
        "\n",
        "ridge_model.fit(X_train,y_train)\n",
        "\n",
        "y_pred = ridge_model.predict(X_test)\n",
        "\n",
        "print(\"MAE= \",mean_absolute_error(y_test, y_pred),\"MSE=\",mean_squared_error(y_test,y_pred),\"R2\",r2_score(y_test, y_pred))"
      ],
      "metadata": {
        "id": "cfC-p4dZNxZX"
      },
      "execution_count": null,
      "outputs": []
    },
    {
      "cell_type": "code",
      "source": [
        "model = Ridge()\n",
        "# define model evaluation method\n",
        "cv = RepeatedKFold(n_splits=6, n_repeats=4, random_state=243)\n",
        "# define grid\n",
        "grid = dict()\n",
        "\n",
        "grid['alpha'] = np.arange(0, 1, 0.01)\n",
        "\n",
        "search = GridSearchCV(model, grid, scoring='neg_mean_absolute_error', cv=cv, n_jobs=-1)\n",
        "\n",
        "search.fit(X_train,y_train)\n",
        "\n",
        "y_pred_ri = search.predict(X_test)"
      ],
      "metadata": {
        "id": "5j5IAQzmNxZY"
      },
      "execution_count": null,
      "outputs": []
    },
    {
      "cell_type": "code",
      "source": [
        "r_sq = r2_score(y_test, y_pred_ri)\n",
        "adj_r2_ri = 1-((1-r_sq)*(df.shape[0])/(df.shape[0]-df.shape[1]-1))\n",
        "print(\"MAE= \",mean_absolute_error(y_test, y_pred_ri),\"MSE=\",mean_squared_error(y_test,y_pred_ri),\"R2\",r2_score(y_test, y_pred_ri),adj_r2_ri)\n",
        "print('MAE: %.3f' % search.best_score_)\n",
        "print('Config: %s' % search.best_params_)"
      ],
      "metadata": {
        "id": "ndpVZlemNxZY"
      },
      "execution_count": null,
      "outputs": []
    },
    {
      "cell_type": "markdown",
      "source": [
        "# Lasso Regression"
      ],
      "metadata": {
        "id": "QW88rIDwNxZZ"
      }
    },
    {
      "cell_type": "code",
      "source": [
        "lasso_model = Lasso(alpha=0)\n",
        "# define model evaluation method\n",
        "lasso_model.fit(X_train,y_train)\n",
        "\n",
        "y_pred = lasso_model.predict(X_test)\n",
        "\n",
        "print(\"MAE= \",mean_absolute_error(y_test, y_pred),\"MSE=\",mean_squared_error(y_test,y_pred),\"R2\",r2_score(y_test, y_pred))"
      ],
      "metadata": {
        "id": "fycp2JS9NxZZ"
      },
      "execution_count": null,
      "outputs": []
    },
    {
      "cell_type": "code",
      "source": [
        "\n",
        "model = Lasso()\n",
        "# define model evaluation method\n",
        "cv = RepeatedKFold(n_splits=10, n_repeats=3, random_state=1)\n",
        "# define grid\n",
        "grid = dict()\n",
        "grid['alpha'] = np.arange(0, 1, 0.01)\n",
        "# define search\n",
        "lasso = GridSearchCV(model, grid, scoring='neg_mean_absolute_error', cv=cv, n_jobs=-1)\n",
        "# perform the search\n",
        "lasso.fit(X, y)\n",
        "\n",
        "y_pred_ls = lasso.predict(X_test)"
      ],
      "metadata": {
        "id": "pzyl4i8eNxZa"
      },
      "execution_count": null,
      "outputs": []
    },
    {
      "cell_type": "code",
      "source": [
        "r_sq = r2_score(y_test, y_pred_ls)\n",
        "adj_r2_ls = 1-((1-r_sq)*(df.shape[0])/(df.shape[0]-df.shape[1]-1))\n",
        "print(\"MAE= \",mean_absolute_error(y_test, y_pred_ls),\"MSE=\",mean_squared_error(y_test,y_pred_ls),\"R2\",r2_score(y_test, y_pred_ls),adj_r2_ls)\n",
        "print('MAE: %.3f' % lasso.best_score_)\n",
        "print('Config: %s' % lasso.best_params_)"
      ],
      "metadata": {
        "id": "ScyeZfwxNxZa"
      },
      "execution_count": null,
      "outputs": []
    },
    {
      "cell_type": "markdown",
      "source": [
        "# KNN model"
      ],
      "metadata": {
        "id": "_52iUnm-NxZb"
      }
    },
    {
      "cell_type": "code",
      "source": [
        "knn  = KNeighborsRegressor(n_neighbors=3)\n",
        "knn.fit(X_train,y_train)\n",
        "y_pred = knn.predict(X_test)\n",
        "print(\"MAE= \",mean_absolute_error(y_test, y_pred),\"MSE=\",mean_squared_error(y_test,y_pred),\"R2\",r2_score(y_test, y_pred))"
      ],
      "metadata": {
        "id": "i0-CN1NfNxZb"
      },
      "execution_count": null,
      "outputs": []
    },
    {
      "cell_type": "code",
      "source": [
        "cv = RepeatedKFold(n_splits=5,n_repeats=3,random_state=999)\n",
        "params = [{'n_neighbors': [2,3,4,5,6,7,8,9,10,11,12,13,14,15], \n",
        "           'weights': ['uniform','distance'],\n",
        "           'p':[1,2,5],\n",
        "           'algorithm':['auto','ball_tree','kd_tree','brute']}]\n",
        "\n",
        "best_knn = GridSearchCV(estimator=KNeighborsRegressor(), \n",
        "                      param_grid=params, \n",
        "                      cv=cv,\n",
        "                      verbose=1,  \n",
        "                      scoring='r2', \n",
        "                      return_train_score=True)\n",
        "best_knn.fit(X_train,y_train)\n",
        "y_pred_knn = best_knn.predict(X_test)"
      ],
      "metadata": {
        "id": "PN8btVWXNxZb"
      },
      "execution_count": null,
      "outputs": []
    },
    {
      "cell_type": "code",
      "source": [
        "r_sq = r2_score(y_test, y_pred_knn)\n",
        "adj_r2_knn = 1-((1-r_sq)*(df.shape[0])/(df.shape[0]-df.shape[1]-1))\n",
        "print(\"MAE= \",mean_absolute_error(y_test, y_pred_knn),\"MSE=\",mean_squared_error(y_test,y_pred_knn),\"R2\",r2_score(y_test, y_pred_knn),adj_r2_knn)\n",
        "print('MAE: %.3f' % best_knn.best_score_)\n",
        "print('Config: %s' % best_knn.best_params_)"
      ],
      "metadata": {
        "id": "gHeLmUTiNxZc"
      },
      "execution_count": null,
      "outputs": []
    },
    {
      "cell_type": "markdown",
      "source": [
        "# XGBOost"
      ],
      "metadata": {
        "id": "9RDAmzlZNxZc"
      }
    },
    {
      "cell_type": "code",
      "source": [
        "import xgboost as xgb\n",
        "xgb_model = xgb.XGBRegressor(objective ='reg:squarederror')\n",
        "xgb_model.fit(X_train,y_train)\n",
        "y_pred = xgb_model.predict(X_test)\n",
        "\n",
        "print(\"MAE= \",mean_absolute_error(y_test, y_pred),\"MSE=\",mean_squared_error(y_test,y_pred),\"R2\",r2_score(y_test, y_pred))"
      ],
      "metadata": {
        "id": "8zqixOeoNxZd"
      },
      "execution_count": null,
      "outputs": []
    },
    {
      "cell_type": "code",
      "source": [
        "\n",
        "hyperparameter_grid = {\n",
        "    'n_estimators': [100, 500, 900, 1100, 1500],\n",
        "    'max_depth': [2, 3, 5, 10, 15],\n",
        "    'learning_rate': [0.05, 0.1, 0.15, 0.20],\n",
        "    'min_child_weight': [1, 2, 3, 4]\n",
        "    }\n",
        "\n",
        "cv = RepeatedKFold(n_splits=10, n_repeats=3, random_state=1)\n",
        "\n",
        "random_cv = RandomizedSearchCV(estimator=xgb_model,\n",
        "            param_distributions=hyperparameter_grid,\n",
        "            cv=cv, n_iter=50,\n",
        "            scoring = 'neg_mean_absolute_error',n_jobs = 4,\n",
        "            verbose = 5, \n",
        "            return_train_score = True,\n",
        "            random_state=42)\n",
        "random_cv.fit(X_train,y_train)\n",
        "y_pred_xgb = random_cv.predict(X_test)"
      ],
      "metadata": {
        "id": "AChlCmlaNxZd"
      },
      "execution_count": null,
      "outputs": []
    },
    {
      "cell_type": "code",
      "source": [
        "r_sq = r2_score(y_test, y_pred_xgb)\n",
        "adj_r2_xgb = 1-((1-r_sq)*(df.shape[0])/(df.shape[0]-df.shape[1]-1))\n",
        "print(\"MAE= \",mean_absolute_error(y_test, y_pred_xgb),\"MSE=\",mean_squared_error(y_test,y_pred_xgb),\"R2\",r2_score(y_test, y_pred_xgb),\"Adj R2\",adj_r2_xgb)\n",
        "print('MAE: %.3f' % random_cv.best_score_)\n",
        "print('Config: %s' % random_cv.best_params_)"
      ],
      "metadata": {
        "id": "4yF4jENjNxZe"
      },
      "execution_count": null,
      "outputs": []
    },
    {
      "cell_type": "markdown",
      "source": [
        "# Table of result for Conductivity"
      ],
      "metadata": {
        "id": "9egUCCMiNxZe"
      }
    },
    {
      "cell_type": "code",
      "source": [
        "\n",
        "# Specify the Column Names while initializing the Table\n",
        "conductivity = PrettyTable([\"Model\", \"MAE\", \"MSE\", \"R2\",\"Adj R2\"])\n",
        "\n",
        "conductivity.add_row([\"Linear Regression\",mean_absolute_error(y_test, y_pred_lr),mean_squared_error(y_test,y_pred_lr),r2_score(y_test, y_pred_lr),adj_r2_lr])\n",
        "conductivity.add_row([\"Gaussian Progression Regressor\",mean_absolute_error(y_test, y_pred_gp),mean_squared_error(y_test,y_pred_gp),r2_score(y_test, y_pred_gp),adj_r2_gp])\n",
        "conductivity.add_row([\"Random Forest\",mean_absolute_error(y_test, y_pred_rf),mean_squared_error(y_test,y_pred_rf),r2_score(y_test, y_pred_rf),adj_r2_rf])\n",
        "conductivity.add_row([\"Support Vector Regressor\",mean_absolute_error(y_test, y_pred_svr),mean_squared_error(y_test,y_pred_svr),r2_score(y_test, y_pred_svr),adj_r2_svr])\n",
        "conductivity.add_row([\"Ridge Regression\",mean_absolute_error(y_test, y_pred_ri),mean_squared_error(y_test,y_pred_ri),r2_score(y_test, y_pred_ri),adj_r2_ri])\n",
        "conductivity.add_row([\"Lasso Regression\",mean_absolute_error(y_test, y_pred_ls),mean_squared_error(y_test,y_pred_ls),r2_score(y_test, y_pred_ls),adj_r2_ls])\n",
        "conductivity.add_row([\"K nearest Neighbours\",mean_absolute_error(y_test, y_pred_knn),mean_squared_error(y_test,y_pred_knn),r2_score(y_test, y_pred_knn),adj_r2_knn])\n",
        "conductivity.add_row([\"XG boost\",mean_absolute_error(y_test, y_pred_xgb),mean_squared_error(y_test,y_pred_xgb),r2_score(y_test, y_pred_xgb),adj_r2_xgb])\n"
      ],
      "metadata": {
        "id": "98pm25BGNxZf"
      },
      "execution_count": null,
      "outputs": []
    },
    {
      "cell_type": "code",
      "source": [
        "print(conductivity)\n"
      ],
      "metadata": {
        "id": "aZQj1YPUNxZf"
      },
      "execution_count": null,
      "outputs": []
    },
    {
      "cell_type": "code",
      "source": [
        "%shell"
      ],
      "metadata": {
        "id": "IzKPT6K6ejx8"
      },
      "execution_count": null,
      "outputs": []
    },
    {
      "cell_type": "code",
      "source": [
        "pip install nbconvert"
      ],
      "metadata": {
        "id": "qPvv_RzDe5S7"
      },
      "execution_count": null,
      "outputs": []
    },
    {
      "cell_type": "code",
      "source": [
        "jupyter nbconvert --to html /content/drive/MyDrive/Colab Notebooks/MLmodel_nanofluid_properties.ipynb"
      ],
      "metadata": {
        "id": "a8G3sL5AXndZ"
      },
      "execution_count": null,
      "outputs": []
    },
    {
      "cell_type": "code",
      "source": [
        "! pwd"
      ],
      "metadata": {
        "id": "Djy1EiiseJz6"
      },
      "execution_count": null,
      "outputs": []
    },
    {
      "cell_type": "code",
      "source": [
        "/content/drive/MyDrive/Colab Notebooks/MLmodel_nanofluid_properties.ipynb"
      ],
      "metadata": {
        "id": "u1S-BrCFgFJV"
      },
      "execution_count": null,
      "outputs": []
    }
  ]
}